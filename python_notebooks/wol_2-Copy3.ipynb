{
 "cells": [
  {
   "cell_type": "code",
   "execution_count": null,
   "metadata": {},
   "outputs": [],
   "source": [
    "#%%writefile Trading.py\n",
    "\n",
    "from selenium import webdriver\n",
    "import chromedriver_autoinstaller\n",
    "from selenium.webdriver.chrome.options import Options\n",
    "from selenium.webdriver.chrome.service import Service\n",
    "import time\n",
    "from selenium.webdriver.common.by import By\n",
    "from selenium.webdriver.common.keys import Keys\n",
    "from selenium.webdriver.common.action_chains import ActionChains\n",
    "import re\n",
    "import getpass\n",
    "import datetime\n",
    "from datetime import datetime\n",
    "import numpy as np\n",
    "import cv2\n",
    "import os\n",
    "import pyautogui\n",
    "from PIL import Image\n",
    "\n",
    "class Trading:\n",
    "    \n",
    "    def __init__(self, directory):\n",
    "        \n",
    "        self.directory= directory\n",
    "        \n",
    "    def open_browser(self):\n",
    "        \n",
    "        chrome_service = Service(executable_path=r\"C:\\Users\\kzakr\\gielda\\chromedriver-win64\\chromedriver.exe\")\n",
    "\n",
    "        self.driver = webdriver.Chrome(service = chrome_service, options=self.chrome_options)\n",
    "        \n",
    "        self.driver.maximize_window()\n",
    "        self.driver.get(\"https://platform.cmcmarkets.com/#/login?b=CMC-CFD&r=PL&l=pl\")\n",
    "        \n",
    "    def get_options(self):\n",
    "        \n",
    "        self.chrome_options = webdriver.ChromeOptions()\n",
    "        self.chrome_options.add_argument('--disable-extensions')\n",
    "        #self.chrome_options.add_argument(\"--headless\")\n",
    "        self.chrome_options.add_argument(\"--incognito\")\n",
    "        self.chrome_options.add_argument(\"--disable-search-engine-choice-screen\");\n",
    "        self.chrome_options.add_argument('--no-sandbox')\n",
    "        \n",
    "    def authorize(self, login:str, password:str):\n",
    "        \n",
    "        \n",
    "        self.driver.find_element(\"id\", \"username\").send_keys(login);\n",
    "        self.driver.find_element(\"id\", \"password\").send_keys(password);\n",
    "        \n",
    "        self.driver.find_element(By.XPATH, \"//input[contains(@type,'submit')]\").send_keys(Keys.RETURN)\n",
    "        \n",
    "        \n",
    "    def reset_search(self):\n",
    "        \n",
    "        self.driver.find_element(By.XPATH, \"//button[@title='Resetuj']\").send_keys(Keys.RETURN)\n",
    "    \n",
    "    def type_search(self):\n",
    "        \n",
    "        self.driver.find_element(By.XPATH, \"//input[@placeholder='Szukaj']\").send_keys(self.instrument)\n",
    "        \n",
    "    def maximize(self):\n",
    "        \n",
    "        click_Max = self.driver.find_element(By.XPATH, \"//div[@title='Maksymalizuj']\")\n",
    "        time.sleep(3)\n",
    "        ActionChains(self.driver).move_to_element(click_Max).click(click_Max).perform()\n",
    "        \n",
    "    def minimize(self):\n",
    "        \n",
    "        click_Min = self.driver.find_element(By.XPATH, \"//div[@title='Minimalizuj']\")\n",
    "        time.sleep(3)\n",
    "        ActionChains(self.driver).move_to_element(click_Min).click(click_Min).perform()\n",
    "        \n",
    "    def open_chart(self):\n",
    "        \n",
    "        click_Menu = self.driver.find_element(By.XPATH, \"//div[@title='{}']\".format(self.title))\n",
    "        time.sleep(3)\n",
    "        ActionChains(self.driver).move_to_element(click_Menu).context_click(click_Menu).perform()\n",
    "        \n",
    "        WebElement = self.driver.find_element(By.XPATH, \"//ul[@class='subnav']\");\n",
    "        WebElement;\n",
    "        elements = WebElement.find_elements(By.TAG_NAME, 'li')\n",
    "        \n",
    "        ActionChains(self.driver).move_to_element(elements[5]).click(elements[5]).perform()\n",
    "\n",
    "        \n",
    "    def select_interval(self):\n",
    "        \n",
    "        \n",
    "        click_Interwal = self.driver.find_element(By.XPATH, \"//li[@title='Interwał']\")\n",
    "        ActionChains(self.driver).move_to_element(click_Interwal).click(click_Interwal).perform()\n",
    "        time.sleep(5)\n",
    "        click_interwal_value = self.driver.find_element(By.XPATH, \"//li[@title='{}']\".format(self.interval))\n",
    "        ActionChains(self.driver).move_to_element(click_interwal_value).click(click_interwal_value).perform()\n",
    "        \n",
    "    def close_chart(self):\n",
    "        \n",
    "        click_Close = self.driver.find_element(By.XPATH, \"//div[@title='Zamknij']\")\n",
    "        \n",
    "        ActionChains(self.driver).move_to_element(click_Close).click(click_Close).perform()\n",
    "        \n",
    "    def get_specyfic_chart(self, instrument, interval, sleep_parameter:int):\n",
    "        \n",
    "        \n",
    "        \n",
    "       \n",
    "        \n",
    "        \n",
    "        \n",
    "       \n",
    "        time.sleep(sleep_parameter)\n",
    "        \n",
    "        for  key, value in instruments.items():\n",
    "           \n",
    "                \n",
    "            self.instrument_not_convert =key\n",
    "            self.instrument = re.sub(r'_', r'/', key)\n",
    "            self.title = re.sub(r'_', r'/', value)\n",
    "        \n",
    "                \n",
    "        \n",
    "                \n",
    "            time.sleep(sleep_parameter)\n",
    "            try:\n",
    "                self.reset_search()\n",
    "            except:\n",
    "                pass\n",
    "            time.sleep(sleep_parameter)\n",
    "            self.type_search()\n",
    "            time.sleep(sleep_parameter)\n",
    "            self.open_chart()\n",
    "            self.maximize()\n",
    "            time.sleep(sleep_parameter)\n",
    "            self.dt_string = self.get_time()\n",
    "                \n",
    "        \n",
    "            for interval in intervals:\n",
    "                self.interval = interval\n",
    "                self.select_interval()\n",
    "                time.sleep(sleep_parameter)\n",
    "                \n",
    "                self.get_snaphoot(self.instrument_not_convert,self.interval )\n",
    "            self.minimize()\n",
    "        \n",
    "\n",
    "            time.sleep(sleep_parameter)\n",
    "            \n",
    "            time.sleep(sleep_parameter)\n",
    "            self.close_chart()\n",
    "            time.sleep(sleep_parameter)\n",
    "        \n",
    "    def get_snaphoot(self, instrument_to_save, interval_to_save):\n",
    "        \n",
    "        \n",
    "        \n",
    "        image = pyautogui.screenshot()\n",
    "        image1 = pyautogui.screenshot(os.path.join(self.directory,instrument_to_save, self.dt_string+instrument_to_save +interval_to_save+'.png'))\n",
    "        \n",
    "    def get_time(self):\n",
    "        \n",
    "        now = datetime.now()\n",
    "\n",
    "        dt_string = now.strftime(\"%Y%m%d_%H_%M\")\n",
    "        \n",
    "        return dt_string\n",
    "        \n",
    "class Prepare_photo:\n",
    "    \n",
    "    def __init__(self):\n",
    "        pass\n",
    "        \n",
    "    def load_picture(self, photo_path:str, photo_name:str):\n",
    "        self.photo_path=photo_path; \n",
    "        \n",
    "        self.photo_name = photo_name\n",
    "        self.im = Image.open(os.path.join(self.photo_path, self.photo_name))\n",
    "        \n",
    "    def get_size(self):\n",
    "        \n",
    "        width, height = self.im.size\n",
    "        \n",
    "        return width, height\n",
    "        \n",
    "    def cut_phot(self, left, right,  top, bottom):\n",
    "        \n",
    "        \n",
    "        \n",
    "        self.im = self.im.crop((left, top, right, bottom))\n",
    "        \n",
    "    def show_picture(self):\n",
    "        \n",
    "        self.im.show()\n",
    "        \n",
    "    def save_picture(self, photo_path:str, photo_name:str):\n",
    "        \n",
    "        self.im.save(os.path.join(self.photo_path, r'cut_'+self.photo_name))\n",
    "    \n",
    "        \n",
    "        \n",
    "        "
   ]
  },
  {
   "cell_type": "code",
   "execution_count": null,
   "metadata": {
    "scrolled": true
   },
   "outputs": [],
   "source": [
    "#yahooo\n",
    "from selenium import webdriver\n",
    "import chromedriver_autoinstaller\n",
    "\n",
    "from selenium.webdriver.chrome.options import Options\n",
    "from selenium.webdriver.chrome.service import Service\n",
    "import time\n",
    "#\n",
    "#chromedriver_autoinstaller.install()  # Check if the current version of chromedriver exists\n",
    "#                                      # and if it doesn't exist, download it automatically,\n",
    "#                                      # then add chromedriver to path\n",
    "#\n",
    "        \n",
    "    \n",
    "chrome_options = webdriver.ChromeOptions()\n",
    "chrome_options.add_argument('--disable-extensions')\n",
    "#chrome_options.add_argument(\"--headless\")\n",
    "chrome_options.add_argument(\"--incognito\")\n",
    "chrome_options.add_argument(\"--disable-search-engine-choice-screen\");\n",
    "chrome_options.add_argument('--no-sandbox')\n",
    "#chrome_options.add_argument('--start-fullscreen')\n",
    "\n",
    "\n",
    "\n",
    "chrome_service = Service(executable_path=r\"C:\\Users\\kzakr\\gielda\\chromedriver-win64\\chromedriver.exe\")\n",
    "\n",
    "driver = webdriver.Chrome(service = chrome_service, options=chrome_options)\n",
    "driver.maximize_window()\n",
    "driver.get(\"https://finance.yahoo.com/quote/ALRM/\")\n",
    "#driver.get(\"https://stooq.pl/t/?i=518&v=0&l=1\")"
   ]
  },
  {
   "cell_type": "code",
   "execution_count": 8,
   "metadata": {},
   "outputs": [],
   "source": [
    "\n",
    "df_dict = {};\n",
    "driver.get(r\"https://finviz.com/screener.ashx?v=111\")"
   ]
  },
  {
   "cell_type": "code",
   "execution_count": 18,
   "metadata": {},
   "outputs": [
    {
     "ename": "NoSuchElementException",
     "evalue": "Message: no such element: Unable to locate element: {\"method\":\"xpath\",\"selector\":\"//button[@mode='secondary']\"}\n  (Session info: chrome=140.0.7339.81); For documentation on this error, please visit: https://www.selenium.dev/documentation/webdriver/troubleshooting/errors#no-such-element-exception\nStacktrace:\n\tGetHandleVerifier [0x0x7ff72ad4fc95+79861]\n\tGetHandleVerifier [0x0x7ff72ad4fcf0+79952]\n\t(No symbol) [0x0x7ff72aaccada]\n\t(No symbol) [0x0x7ff72ab24457]\n\t(No symbol) [0x0x7ff72ab2471c]\n\t(No symbol) [0x0x7ff72ab78217]\n\t(No symbol) [0x0x7ff72ab4cb1f]\n\t(No symbol) [0x0x7ff72ab74f8b]\n\t(No symbol) [0x0x7ff72ab4c8b3]\n\t(No symbol) [0x0x7ff72ab15272]\n\t(No symbol) [0x0x7ff72ab16043]\n\tGetHandleVerifier [0x0x7ff72b00b9cd+2946349]\n\tGetHandleVerifier [0x0x7ff72b005c4a+2922410]\n\tGetHandleVerifier [0x0x7ff72b0259d7+3052855]\n\tGetHandleVerifier [0x0x7ff72ad6aa7e+189918]\n\tGetHandleVerifier [0x0x7ff72ad72a1f+222591]\n\tGetHandleVerifier [0x0x7ff72ad58ab4+116244]\n\tGetHandleVerifier [0x0x7ff72ad58c69+116681]\n\tGetHandleVerifier [0x0x7ff72ad3f048+11176]\n\tBaseThreadInitThunk [0x0x7ffadef9e8d7+23]\n\tRtlUserThreadStart [0x0x7ffadfc5c34c+44]\n",
     "output_type": "error",
     "traceback": [
      "\u001b[1;31m---------------------------------------------------------------------------\u001b[0m",
      "\u001b[1;31mNoSuchElementException\u001b[0m                    Traceback (most recent call last)",
      "\u001b[1;32m<ipython-input-18-223027fb63c7>\u001b[0m in \u001b[0;36m<module>\u001b[1;34m\u001b[0m\n\u001b[1;32m----> 1\u001b[1;33m \u001b[0mreject_cookies\u001b[0m \u001b[1;33m=\u001b[0m \u001b[0mdriver\u001b[0m\u001b[1;33m.\u001b[0m\u001b[0mfind_element\u001b[0m\u001b[1;33m(\u001b[0m\u001b[0mBy\u001b[0m\u001b[1;33m.\u001b[0m\u001b[0mXPATH\u001b[0m\u001b[1;33m,\u001b[0m \u001b[1;34m\"//button[@mode='secondary']\"\u001b[0m\u001b[1;33m)\u001b[0m\u001b[1;33m\u001b[0m\u001b[1;33m\u001b[0m\u001b[0m\n\u001b[0m\u001b[0;32m      2\u001b[0m \u001b[0mtime\u001b[0m\u001b[1;33m.\u001b[0m\u001b[0msleep\u001b[0m\u001b[1;33m(\u001b[0m\u001b[1;36m3\u001b[0m\u001b[1;33m)\u001b[0m\u001b[1;33m\u001b[0m\u001b[1;33m\u001b[0m\u001b[0m\n\u001b[0;32m      3\u001b[0m \u001b[0mActionChains\u001b[0m\u001b[1;33m(\u001b[0m\u001b[0mdriver\u001b[0m\u001b[1;33m)\u001b[0m\u001b[1;33m.\u001b[0m\u001b[0mmove_to_element\u001b[0m\u001b[1;33m(\u001b[0m\u001b[0mreject_cookies\u001b[0m\u001b[1;33m)\u001b[0m\u001b[1;33m.\u001b[0m\u001b[0mclick\u001b[0m\u001b[1;33m(\u001b[0m\u001b[0mreject_cookies\u001b[0m\u001b[1;33m)\u001b[0m\u001b[1;33m.\u001b[0m\u001b[0mperform\u001b[0m\u001b[1;33m(\u001b[0m\u001b[1;33m)\u001b[0m\u001b[1;33m\u001b[0m\u001b[1;33m\u001b[0m\u001b[0m\n",
      "\u001b[1;32mC:\\pyt\\lib\\site-packages\\selenium\\webdriver\\remote\\webdriver.py\u001b[0m in \u001b[0;36mfind_element\u001b[1;34m(self, by, value)\u001b[0m\n\u001b[0;32m    740\u001b[0m             \u001b[0mvalue\u001b[0m \u001b[1;33m=\u001b[0m \u001b[1;34mf'[name=\"{value}\"]'\u001b[0m\u001b[1;33m\u001b[0m\u001b[1;33m\u001b[0m\u001b[0m\n\u001b[0;32m    741\u001b[0m \u001b[1;33m\u001b[0m\u001b[0m\n\u001b[1;32m--> 742\u001b[1;33m         \u001b[1;32mreturn\u001b[0m \u001b[0mself\u001b[0m\u001b[1;33m.\u001b[0m\u001b[0mexecute\u001b[0m\u001b[1;33m(\u001b[0m\u001b[0mCommand\u001b[0m\u001b[1;33m.\u001b[0m\u001b[0mFIND_ELEMENT\u001b[0m\u001b[1;33m,\u001b[0m \u001b[1;33m{\u001b[0m\u001b[1;34m\"using\"\u001b[0m\u001b[1;33m:\u001b[0m \u001b[0mby\u001b[0m\u001b[1;33m,\u001b[0m \u001b[1;34m\"value\"\u001b[0m\u001b[1;33m:\u001b[0m \u001b[0mvalue\u001b[0m\u001b[1;33m}\u001b[0m\u001b[1;33m)\u001b[0m\u001b[1;33m[\u001b[0m\u001b[1;34m\"value\"\u001b[0m\u001b[1;33m]\u001b[0m\u001b[1;33m\u001b[0m\u001b[1;33m\u001b[0m\u001b[0m\n\u001b[0m\u001b[0;32m    743\u001b[0m \u001b[1;33m\u001b[0m\u001b[0m\n\u001b[0;32m    744\u001b[0m     \u001b[1;32mdef\u001b[0m \u001b[0mfind_elements\u001b[0m\u001b[1;33m(\u001b[0m\u001b[0mself\u001b[0m\u001b[1;33m,\u001b[0m \u001b[0mby\u001b[0m\u001b[1;33m=\u001b[0m\u001b[0mBy\u001b[0m\u001b[1;33m.\u001b[0m\u001b[0mID\u001b[0m\u001b[1;33m,\u001b[0m \u001b[0mvalue\u001b[0m\u001b[1;33m:\u001b[0m \u001b[0mOptional\u001b[0m\u001b[1;33m[\u001b[0m\u001b[0mstr\u001b[0m\u001b[1;33m]\u001b[0m \u001b[1;33m=\u001b[0m \u001b[1;32mNone\u001b[0m\u001b[1;33m)\u001b[0m \u001b[1;33m->\u001b[0m \u001b[0mList\u001b[0m\u001b[1;33m[\u001b[0m\u001b[0mWebElement\u001b[0m\u001b[1;33m]\u001b[0m\u001b[1;33m:\u001b[0m\u001b[1;33m\u001b[0m\u001b[1;33m\u001b[0m\u001b[0m\n",
      "\u001b[1;32mC:\\pyt\\lib\\site-packages\\selenium\\webdriver\\remote\\webdriver.py\u001b[0m in \u001b[0;36mexecute\u001b[1;34m(self, driver_command, params)\u001b[0m\n\u001b[0;32m    346\u001b[0m         \u001b[0mresponse\u001b[0m \u001b[1;33m=\u001b[0m \u001b[0mself\u001b[0m\u001b[1;33m.\u001b[0m\u001b[0mcommand_executor\u001b[0m\u001b[1;33m.\u001b[0m\u001b[0mexecute\u001b[0m\u001b[1;33m(\u001b[0m\u001b[0mdriver_command\u001b[0m\u001b[1;33m,\u001b[0m \u001b[0mparams\u001b[0m\u001b[1;33m)\u001b[0m\u001b[1;33m\u001b[0m\u001b[1;33m\u001b[0m\u001b[0m\n\u001b[0;32m    347\u001b[0m         \u001b[1;32mif\u001b[0m \u001b[0mresponse\u001b[0m\u001b[1;33m:\u001b[0m\u001b[1;33m\u001b[0m\u001b[1;33m\u001b[0m\u001b[0m\n\u001b[1;32m--> 348\u001b[1;33m             \u001b[0mself\u001b[0m\u001b[1;33m.\u001b[0m\u001b[0merror_handler\u001b[0m\u001b[1;33m.\u001b[0m\u001b[0mcheck_response\u001b[0m\u001b[1;33m(\u001b[0m\u001b[0mresponse\u001b[0m\u001b[1;33m)\u001b[0m\u001b[1;33m\u001b[0m\u001b[1;33m\u001b[0m\u001b[0m\n\u001b[0m\u001b[0;32m    349\u001b[0m             \u001b[0mresponse\u001b[0m\u001b[1;33m[\u001b[0m\u001b[1;34m\"value\"\u001b[0m\u001b[1;33m]\u001b[0m \u001b[1;33m=\u001b[0m \u001b[0mself\u001b[0m\u001b[1;33m.\u001b[0m\u001b[0m_unwrap_value\u001b[0m\u001b[1;33m(\u001b[0m\u001b[0mresponse\u001b[0m\u001b[1;33m.\u001b[0m\u001b[0mget\u001b[0m\u001b[1;33m(\u001b[0m\u001b[1;34m\"value\"\u001b[0m\u001b[1;33m,\u001b[0m \u001b[1;32mNone\u001b[0m\u001b[1;33m)\u001b[0m\u001b[1;33m)\u001b[0m\u001b[1;33m\u001b[0m\u001b[1;33m\u001b[0m\u001b[0m\n\u001b[0;32m    350\u001b[0m             \u001b[1;32mreturn\u001b[0m \u001b[0mresponse\u001b[0m\u001b[1;33m\u001b[0m\u001b[1;33m\u001b[0m\u001b[0m\n",
      "\u001b[1;32mC:\\pyt\\lib\\site-packages\\selenium\\webdriver\\remote\\errorhandler.py\u001b[0m in \u001b[0;36mcheck_response\u001b[1;34m(self, response)\u001b[0m\n\u001b[0;32m    227\u001b[0m                 \u001b[0malert_text\u001b[0m \u001b[1;33m=\u001b[0m \u001b[0mvalue\u001b[0m\u001b[1;33m[\u001b[0m\u001b[1;34m\"alert\"\u001b[0m\u001b[1;33m]\u001b[0m\u001b[1;33m.\u001b[0m\u001b[0mget\u001b[0m\u001b[1;33m(\u001b[0m\u001b[1;34m\"text\"\u001b[0m\u001b[1;33m)\u001b[0m\u001b[1;33m\u001b[0m\u001b[1;33m\u001b[0m\u001b[0m\n\u001b[0;32m    228\u001b[0m             \u001b[1;32mraise\u001b[0m \u001b[0mexception_class\u001b[0m\u001b[1;33m(\u001b[0m\u001b[0mmessage\u001b[0m\u001b[1;33m,\u001b[0m \u001b[0mscreen\u001b[0m\u001b[1;33m,\u001b[0m \u001b[0mstacktrace\u001b[0m\u001b[1;33m,\u001b[0m \u001b[0malert_text\u001b[0m\u001b[1;33m)\u001b[0m  \u001b[1;31m# type: ignore[call-arg]  # mypy is not smart enough here\u001b[0m\u001b[1;33m\u001b[0m\u001b[1;33m\u001b[0m\u001b[0m\n\u001b[1;32m--> 229\u001b[1;33m         \u001b[1;32mraise\u001b[0m \u001b[0mexception_class\u001b[0m\u001b[1;33m(\u001b[0m\u001b[0mmessage\u001b[0m\u001b[1;33m,\u001b[0m \u001b[0mscreen\u001b[0m\u001b[1;33m,\u001b[0m \u001b[0mstacktrace\u001b[0m\u001b[1;33m)\u001b[0m\u001b[1;33m\u001b[0m\u001b[1;33m\u001b[0m\u001b[0m\n\u001b[0m",
      "\u001b[1;31mNoSuchElementException\u001b[0m: Message: no such element: Unable to locate element: {\"method\":\"xpath\",\"selector\":\"//button[@mode='secondary']\"}\n  (Session info: chrome=140.0.7339.81); For documentation on this error, please visit: https://www.selenium.dev/documentation/webdriver/troubleshooting/errors#no-such-element-exception\nStacktrace:\n\tGetHandleVerifier [0x0x7ff72ad4fc95+79861]\n\tGetHandleVerifier [0x0x7ff72ad4fcf0+79952]\n\t(No symbol) [0x0x7ff72aaccada]\n\t(No symbol) [0x0x7ff72ab24457]\n\t(No symbol) [0x0x7ff72ab2471c]\n\t(No symbol) [0x0x7ff72ab78217]\n\t(No symbol) [0x0x7ff72ab4cb1f]\n\t(No symbol) [0x0x7ff72ab74f8b]\n\t(No symbol) [0x0x7ff72ab4c8b3]\n\t(No symbol) [0x0x7ff72ab15272]\n\t(No symbol) [0x0x7ff72ab16043]\n\tGetHandleVerifier [0x0x7ff72b00b9cd+2946349]\n\tGetHandleVerifier [0x0x7ff72b005c4a+2922410]\n\tGetHandleVerifier [0x0x7ff72b0259d7+3052855]\n\tGetHandleVerifier [0x0x7ff72ad6aa7e+189918]\n\tGetHandleVerifier [0x0x7ff72ad72a1f+222591]\n\tGetHandleVerifier [0x0x7ff72ad58ab4+116244]\n\tGetHandleVerifier [0x0x7ff72ad58c69+116681]\n\tGetHandleVerifier [0x0x7ff72ad3f048+11176]\n\tBaseThreadInitThunk [0x0x7ffadef9e8d7+23]\n\tRtlUserThreadStart [0x0x7ffadfc5c34c+44]\n"
     ]
    }
   ],
   "source": [
    "reject_cookies = driver.find_element(By.XPATH, \"//button[@mode='secondary']\")\n",
    "time.sleep(3)\n",
    "ActionChains(driver).move_to_element(reject_cookies).click(reject_cookies).perform()"
   ]
  },
  {
   "cell_type": "code",
   "execution_count": 41,
   "metadata": {},
   "outputs": [],
   "source": [
    "reject_cookies = driver.find_element(By.XPATH, \"//button['REJECT ALL']\")\n",
    "time.sleep(3)\n",
    "ActionChains(driver).move_to_element(reject_cookies).click(reject_cookies).perform()"
   ]
  },
  {
   "cell_type": "code",
   "execution_count": 42,
   "metadata": {},
   "outputs": [],
   "source": [
    "reject_cookies = driver.find_element(By.XPATH, \"//button[@aria-pressed='false']\")\n",
    "time.sleep(3)\n",
    "ActionChains(driver).move_to_element(reject_cookies).click(reject_cookies).perform()"
   ]
  },
  {
   "cell_type": "code",
   "execution_count": 35,
   "metadata": {},
   "outputs": [],
   "source": [
    "<button aria-pressed=\"false\" mode=\"primary\" size=\"large\" class=\" css-47sehv\">SAVE &amp; EXIT</button>"
   ]
  },
  {
   "cell_type": "code",
   "execution_count": null,
   "metadata": {},
   "outputs": [],
   "source": [
    "<button mode=\"secondary\" size=\"large\" class=\" css-1hy2vtq\"><span>DISAGREE</span></button>"
   ]
  },
  {
   "cell_type": "code",
   "execution_count": 35,
   "metadata": {},
   "outputs": [
    {
     "ename": "SyntaxError",
     "evalue": "invalid syntax (<ipython-input-35-bb05695b184f>, line 1)",
     "output_type": "error",
     "traceback": [
      "\u001b[1;36m  File \u001b[1;32m\"<ipython-input-35-bb05695b184f>\"\u001b[1;36m, line \u001b[1;32m1\u001b[0m\n\u001b[1;33m    <button aria-pressed=\"false\" mode=\"primary\" size=\"large\" class=\" css-47sehv\">SAVE &amp; EXIT</button>\u001b[0m\n\u001b[1;37m    ^\u001b[0m\n\u001b[1;31mSyntaxError\u001b[0m\u001b[1;31m:\u001b[0m invalid syntax\n"
     ]
    }
   ],
   "source": [
    "<button aria-pressed=\"false\" mode=\"primary\" size=\"large\" class=\" css-47sehv\">SAVE &amp; EXIT</button>"
   ]
  },
  {
   "cell_type": "code",
   "execution_count": 32,
   "metadata": {},
   "outputs": [],
   "source": [
    "the_text = inputElement.text"
   ]
  },
  {
   "cell_type": "code",
   "execution_count": 41,
   "metadata": {},
   "outputs": [],
   "source": [
    "the_text_2 =  ainputElement.text"
   ]
  },
  {
   "cell_type": "code",
   "execution_count": null,
   "metadata": {},
   "outputs": [],
   "source": [
    "the_text_2"
   ]
  },
  {
   "cell_type": "code",
   "execution_count": 4,
   "metadata": {},
   "outputs": [],
   "source": [
    "unwanted_tickers = []"
   ]
  },
  {
   "cell_type": "code",
   "execution_count": null,
   "metadata": {},
   "outputs": [],
   "source": []
  },
  {
   "cell_type": "code",
   "execution_count": 4,
   "metadata": {},
   "outputs": [],
   "source": [
    "import pandas as pd\n",
    "tickers =pd.read_csv(r'tickers_clear.csv')"
   ]
  },
  {
   "cell_type": "code",
   "execution_count": 4,
   "metadata": {},
   "outputs": [],
   "source": [
    "tickers= tickers.iloc[2000:]"
   ]
  },
  {
   "cell_type": "code",
   "execution_count": 47,
   "metadata": {},
   "outputs": [],
   "source": [
    "main_df = pd.DataFrame()"
   ]
  },
  {
   "cell_type": "code",
   "execution_count": 21,
   "metadata": {},
   "outputs": [
    {
     "ename": "SyntaxError",
     "evalue": "invalid syntax (<ipython-input-21-a49f9ad725f9>, line 2)",
     "output_type": "error",
     "traceback": [
      "\u001b[1;36m  File \u001b[1;32m\"<ipython-input-21-a49f9ad725f9>\"\u001b[1;36m, line \u001b[1;32m2\u001b[0m\n\u001b[1;33m    https://finviz.com/screener.ashx?v=111&r=21\u001b[0m\n\u001b[1;37m          ^\u001b[0m\n\u001b[1;31mSyntaxError\u001b[0m\u001b[1;31m:\u001b[0m invalid syntax\n"
     ]
    }
   ],
   "source": [
    "finwiz\n",
    "https://finviz.com/screener.ashx?v=111&r=21"
   ]
  },
  {
   "cell_type": "code",
   "execution_count": 33,
   "metadata": {},
   "outputs": [],
   "source": [
    "\n",
    "df_dict = {};\n",
    "driver.get(r\"https://finviz.com/screener.ashx?v=111\")"
   ]
  },
  {
   "cell_type": "code",
   "execution_count": 38,
   "metadata": {},
   "outputs": [
    {
     "data": {
      "text/plain": [
       "'No. Ticker Company Sector Industry Country Market Cap P/E Price Change Volume\\n1101\\nBNS\\nBank Of Nova Scotia\\nFinancial\\nBanks - Diversified\\nCanada\\n69.74B\\n13.55\\n56.72\\n0.89%\\n926,101\\n1102\\nBNT\\nBrookfield Wealth Solutions Ltd\\nFinancial\\nInsurance - Diversified\\nBermuda\\n7.92B\\n-\\n61.59\\n2.16%\\n33,466\\n1103\\nBNTC\\nBenitec Biopharma Inc\\nHealthcare\\nBiotechnology\\nUSA\\n225.93M\\n-\\n9.73\\n-1.22%\\n23,337\\n1104\\nBNTX\\nBioNTech SE ADR\\nHealthcare\\nBiotechnology\\nGermany\\n28.94B\\n-\\n120.72\\n1.84%\\n604,414\\n1105\\nBNY\\nBlackRock New York Municipal Income Trust\\nFinancial\\nClosed-End Fund - Debt\\nUSA\\n258.05M\\n22.77\\n10.70\\n1.04%\\n113,359\\n1106\\nBNZI\\nBanzai International Inc\\nTechnology\\nSoftware - Application\\nUSA\\n9.78M\\n-\\n1.47\\n13.08%\\n352,095\\n1107\\nBOAT\\nSonicShares Global Shipping ETF\\nFinancial\\nExchange Traded Fund\\nUSA\\n-\\n-\\n30.77\\n-1.11%\\n8,993\\n1108\\nBOC\\nBoston Omaha Corp\\nIndustrials\\nConglomerates\\nUSA\\n488.08M\\n-\\n15.23\\n2.15%\\n95,057\\n1109\\nBOCN\\nBlue Ocean Acquisition Corp\\nFinancial\\nShell Companies\\nUSA\\n107.98M\\n-\\n13.75\\n19.25%\\n2,462\\n1110\\nBOCT\\nInnovator U.S. Equity Buffer ETF - October\\nFinancial\\nExchange Traded Fund\\nUSA\\n-\\n-\\n43.67\\n-0.18%\\n13,666\\n1111\\nBODI\\nBeachbody Company Inc\\nCommunication Services\\nInternet Content & Information\\nUSA\\n44.31M\\n-\\n6.37\\n0.47%\\n3,874\\n1112\\nBOE\\nBlackRock Enhanced Global Dividend Trust\\nFinancial\\nClosed-End Fund - Foreign\\nUSA\\n694.01M\\n8.55\\n11.28\\n0.27%\\n203,494\\n1113\\nBOF\\nBranchOut Food Inc\\nConsumer Defensive\\nPackaged Foods\\nUSA\\n13.42M\\n-\\n1.71\\n-2.29%\\n96,247\\n1114\\nBOH\\nBank of Hawaii Corp\\nFinancial\\nBanks - Regional\\nUSA\\n3.22B\\n24.15\\n80.35\\n0.68%\\n285,973\\n1115\\nBOIL\\nProShares Ultra Bloomberg Natural Gas 2x Shares\\nFinancial\\nExchange Traded Fund\\nUSA\\n-\\n-\\n42.15\\n-16.52%\\n4,624,499\\n1116\\nBOKF\\nBOK Financial Corp\\nFinancial\\nBanks - Regional\\nUSA\\n7.69B\\n16.38\\n119.63\\n0.32%\\n154,684\\n1117\\nBOLD\\nBoundless Bio Inc\\nHealthcare\\nBiotechnology\\nUSA\\n53.24M\\n-\\n2.52\\n-5.26%\\n131,338\\n1118\\nBOLT\\nBolt Biotherapeutics Inc\\nHealthcare\\nBiotechnology\\nUSA\\n23.81M\\n-\\n0.63\\n-0.62%\\n127,657\\n1119\\nBON\\nBon Natural Life Ltd\\nBasic Materials\\nSpecialty Chemicals\\nChina\\n7.23M\\n8.81\\n1.85\\n-1.60%\\n2,689\\n1120\\nBOND\\nPIMCO Active Bond ETF\\nFinancial\\nExchange Traded Fund\\nUSA\\n-\\n-\\n92.46\\n0.36%\\n147,817'"
      ]
     },
     "execution_count": 38,
     "metadata": {},
     "output_type": "execute_result"
    }
   ],
   "source": [
    "the_text"
   ]
  },
  {
   "cell_type": "code",
   "execution_count": 9,
   "metadata": {},
   "outputs": [
    {
     "ename": "NameError",
     "evalue": "name 'the_text' is not defined",
     "output_type": "error",
     "traceback": [
      "\u001b[1;31m---------------------------------------------------------------------------\u001b[0m",
      "\u001b[1;31mNameError\u001b[0m                                 Traceback (most recent call last)",
      "\u001b[1;32m<ipython-input-9-6b6612a07614>\u001b[0m in \u001b[0;36m<module>\u001b[1;34m\u001b[0m\n\u001b[1;32m----> 1\u001b[1;33m \u001b[0mkeysy\u001b[0m \u001b[1;33m=\u001b[0m\u001b[0mthe_text\u001b[0m\u001b[1;33m.\u001b[0m\u001b[0msplit\u001b[0m\u001b[1;33m(\u001b[0m\u001b[1;34m\"\\n\"\u001b[0m\u001b[1;33m)\u001b[0m\u001b[1;33m[\u001b[0m\u001b[1;36m0\u001b[0m\u001b[1;33m]\u001b[0m\u001b[1;33m.\u001b[0m\u001b[0msplit\u001b[0m\u001b[1;33m(\u001b[0m\u001b[1;34m\" \"\u001b[0m\u001b[1;33m)\u001b[0m\u001b[1;33m\u001b[0m\u001b[1;33m\u001b[0m\u001b[0m\n\u001b[0m\u001b[0;32m      2\u001b[0m \u001b[0mvalues\u001b[0m  \u001b[1;33m=\u001b[0m\u001b[0mthe_text\u001b[0m\u001b[1;33m.\u001b[0m\u001b[0msplit\u001b[0m\u001b[1;33m(\u001b[0m\u001b[1;34m\"\\n\"\u001b[0m\u001b[1;33m)\u001b[0m\u001b[1;33m[\u001b[0m\u001b[1;36m1\u001b[0m\u001b[1;33m:\u001b[0m\u001b[1;33m]\u001b[0m\u001b[1;33m\u001b[0m\u001b[1;33m\u001b[0m\u001b[0m\n",
      "\u001b[1;31mNameError\u001b[0m: name 'the_text' is not defined"
     ]
    }
   ],
   "source": [
    "keysy =the_text.split(\"\\n\")[0].split(\" \")\n",
    "values  =the_text.split(\"\\n\")[1:]"
   ]
  },
  {
   "cell_type": "code",
   "execution_count": 35,
   "metadata": {},
   "outputs": [
    {
     "name": "stdout",
     "output_type": "stream",
     "text": [
      "{'No.': '21', 'Ticker': 'AAPX', 'Company': 'T-Rex 2X Long Apple Daily Target ETF', 'Sector': 'Financial', 'Industry': 'Exchange Traded Fund', 'Country': 'USA', 'Market': '-', 'P/E': '-', 'Price': '31.38', 'Change': '-0.62%', 'Volume': '9,492'}\n",
      "{'No.': '22', 'Ticker': 'AAPY', 'Company': 'Kurv Yield Premium Strategy Apple (AAPL) ETF', 'Sector': 'Financial', 'Industry': 'Exchange Traded Fund', 'Country': 'USA', 'Market': '-', 'P/E': '-', 'Price': '26.84', 'Change': '-0.33%', 'Volume': '2,345'}\n",
      "{'No.': '23', 'Ticker': 'AAT', 'Company': 'American Assets Trust Inc', 'Sector': 'Real Estate', 'Industry': 'REIT - Diversified', 'Country': 'USA', 'Market': '1.69B', 'P/E': '28.62', 'Price': '27.68', 'Change': '-1.21%', 'Volume': '53,106'}\n",
      "{'No.': '24', 'Ticker': 'AAXJ', 'Company': 'iShares MSCI All Country Asia ex Japan ETF', 'Sector': 'Financial', 'Industry': 'Exchange Traded Fund', 'Country': 'USA', 'Market': '-', 'P/E': '-', 'Price': '74.19', 'Change': '-2.29%', 'Volume': '473,839'}\n",
      "{'No.': '25', 'Ticker': 'AB', 'Company': 'AllianceBernstein Holding Lp', 'Sector': 'Financial', 'Industry': 'Asset Management', 'Country': 'USA', 'Market': '4.07B', 'P/E': '10.29', 'Price': '35.86', 'Change': '-1.73%', 'Volume': '166,461'}\n",
      "{'No.': '26', 'Ticker': 'ABAT', 'Company': 'American Battery Technology Company', 'Sector': 'Basic Materials', 'Industry': 'Other Industrial Metals & Mining', 'Country': 'USA', 'Market': '68.49M', 'P/E': '-', 'Price': '0.95', 'Change': '-0.30%', 'Volume': '228,380'}\n",
      "{'No.': '27', 'Ticker': 'ABBV', 'Company': 'Abbvie Inc', 'Sector': 'Healthcare', 'Industry': 'Drug Manufacturers - General', 'Country': 'USA', 'Market': '305.94B', 'P/E': '60.38', 'Price': '173.13', 'Change': '-0.75%', 'Volume': '4,744,381'}\n",
      "{'No.': '28', 'Ticker': 'ABCB', 'Company': 'Ameris Bancorp', 'Sector': 'Financial', 'Industry': 'Banks - Regional', 'Country': 'USA', 'Market': '4.89B', 'P/E': '14.79', 'Price': '70.75', 'Change': '-0.58%', 'Volume': '145,998'}\n",
      "{'No.': '29', 'Ticker': 'ABCL', 'Company': 'AbCellera Biologics Inc', 'Sector': 'Healthcare', 'Industry': 'Biotechnology', 'Country': 'Canada', 'Market': '878.71M', 'P/E': '-', 'Price': '2.97', 'Change': '-5.56%', 'Volume': '2,563,804'}\n",
      "{'No.': '30', 'Ticker': 'ABCS', 'Company': 'Alpha Blue Capital US Small-Mid Cap Dynamic ETF', 'Sector': 'Financial', 'Industry': 'Exchange Traded Fund', 'Country': 'USA', 'Market': '-', 'P/E': '-', 'Price': '29.68', 'Change': '-1.16%', 'Volume': '1,303'}\n",
      "{'No.': '31', 'Ticker': 'ABEO', 'Company': 'Abeona Therapeutics Inc', 'Sector': 'Healthcare', 'Industry': 'Biotechnology', 'Country': 'USA', 'Market': '267.03M', 'P/E': '-', 'Price': '6.16', 'Change': '-4.12%', 'Volume': '632,389'}\n",
      "{'No.': '32', 'Ticker': 'ABEQ', 'Company': 'Absolute Select Value ETF', 'Sector': 'Financial', 'Industry': 'Exchange Traded Fund', 'Country': 'USA', 'Market': '-', 'P/E': '-', 'Price': '32.41', 'Change': '-0.56%', 'Volume': '4,093'}\n",
      "{'No.': '33', 'Ticker': 'ABEV', 'Company': 'Ambev S.A. ADR', 'Sector': 'Consumer Defensive', 'Industry': 'Beverages - Brewers', 'Country': 'Brazil', 'Market': '34.29B', 'P/E': '12.70', 'Price': '2.18', 'Change': '-0.91%', 'Volume': '15,173,744'}\n",
      "{'No.': '34', 'Ticker': 'ABG', 'Company': 'Asbury Automotive Group Inc', 'Sector': 'Consumer Cyclical', 'Industry': 'Auto & Truck Dealerships', 'Country': 'USA', 'Market': '5.05B', 'P/E': '14.57', 'Price': '257.80', 'Change': '-2.99%', 'Volume': '72,853'}\n",
      "{'No.': '35', 'Ticker': 'ABL', 'Company': 'Abacus Life Inc', 'Sector': 'Financial', 'Industry': 'Insurance - Life', 'Country': 'USA', 'Market': '625.81M', 'P/E': '-', 'Price': '8.38', 'Change': '-2.10%', 'Volume': '14,012'}\n",
      "{'No.': '36', 'Ticker': 'ABLV', 'Company': 'Able View Global Inc', 'Sector': 'Communication Services', 'Industry': 'Advertising Agencies', 'Country': 'China', 'Market': '37.48M', 'P/E': '-', 'Price': '0.90', 'Change': '3.93%', 'Volume': '15,824'}\n",
      "{'No.': '37', 'Ticker': 'ABM', 'Company': 'ABM Industries Inc', 'Sector': 'Industrials', 'Industry': 'Specialty Business Services', 'Country': 'USA', 'Market': '3.62B', 'P/E': '23.81', 'Price': '57.73', 'Change': '-1.50%', 'Volume': '117,785'}\n",
      "{'No.': '38', 'Ticker': 'ABNB', 'Company': 'Airbnb Inc', 'Sector': 'Consumer Cyclical', 'Industry': 'Travel Services', 'Country': 'USA', 'Market': '85.27B', 'P/E': '47.23', 'Price': '134.48', 'Change': '-2.13%', 'Volume': '2,998,505'}\n",
      "{'No.': '39', 'Ticker': 'ABNY', 'Company': 'YieldMax ABNB Option Income Strategy ETF', 'Sector': 'Financial', 'Industry': 'Exchange Traded Fund', 'Country': 'USA', 'Market': '-', 'P/E': '-', 'Price': '16.64', 'Change': '-1.60%', 'Volume': '27,199'}\n"
     ]
    }
   ],
   "source": [
    "values_loop = 0\n",
    "for value in values:\n",
    "    \n",
    "    \n",
    "    if values_loop == len(keysy):\n",
    "        values_loop = 0\n",
    "        print(df_dict)\n",
    "    #else:\n",
    "    elif values_loop ==7:\n",
    "        values_loop +=1\n",
    "    df_dict[keysy[values_loop]] = value\n",
    "    values_loop +=1"
   ]
  },
  {
   "cell_type": "code",
   "execution_count": 16,
   "metadata": {},
   "outputs": [
    {
     "data": {
      "text/plain": [
       "['1',\n",
       " 'A',\n",
       " 'Agilent Technologies Inc',\n",
       " 'Healthcare',\n",
       " 'Diagnostics & Research',\n",
       " 'USA',\n",
       " '37.84B',\n",
       " '27.88',\n",
       " '134.54',\n",
       " '-1.57%',\n",
       " '1,847,937',\n",
       " '2',\n",
       " 'AA',\n",
       " 'Alcoa Corp',\n",
       " 'Basic Materials',\n",
       " 'Aluminum',\n",
       " 'USA',\n",
       " '11.00B',\n",
       " '-',\n",
       " '43.46',\n",
       " '-2.95%',\n",
       " '1,750,947',\n",
       " '3',\n",
       " 'AAA',\n",
       " 'Alternative Access First Priority CLO Bond ETF',\n",
       " 'Financial',\n",
       " 'Exchange Traded Fund',\n",
       " 'USA',\n",
       " '-',\n",
       " '-',\n",
       " '25.06',\n",
       " '-0.07%',\n",
       " '7,949',\n",
       " '4',\n",
       " 'AAAU',\n",
       " 'Goldman Sachs Physical Gold ETF',\n",
       " 'Financial',\n",
       " 'Exchange Traded Fund',\n",
       " 'USA',\n",
       " '-',\n",
       " '-',\n",
       " '25.82',\n",
       " '-2.75%',\n",
       " '1,185,790',\n",
       " '5',\n",
       " 'AACG',\n",
       " 'ATA Creativity Global ADR',\n",
       " 'Consumer Defensive',\n",
       " 'Education & Training Services',\n",
       " 'China',\n",
       " '33.56M',\n",
       " '-',\n",
       " '1.05',\n",
       " '0.96%',\n",
       " '20,939',\n",
       " '6',\n",
       " 'AACT',\n",
       " 'Ares Acquisition Corporation II',\n",
       " 'Financial',\n",
       " 'Shell Companies',\n",
       " 'USA',\n",
       " '678.80M',\n",
       " '25.81',\n",
       " '10.87',\n",
       " '0.08%',\n",
       " '186',\n",
       " '7',\n",
       " 'AADI',\n",
       " 'Aadi Bioscience Inc',\n",
       " 'Healthcare',\n",
       " 'Biotechnology',\n",
       " 'USA',\n",
       " '51.16M',\n",
       " '-',\n",
       " '2.05',\n",
       " '-3.47%',\n",
       " '65,297',\n",
       " '8',\n",
       " 'AADR',\n",
       " 'AdvisorShares Dorsey Wright ADR ETF',\n",
       " 'Financial',\n",
       " 'Exchange Traded Fund',\n",
       " 'USA',\n",
       " '-',\n",
       " '-',\n",
       " '65.70',\n",
       " '-0.38%',\n",
       " '715',\n",
       " '9',\n",
       " 'AAL',\n",
       " 'American Airlines Group Inc',\n",
       " 'Industrials',\n",
       " 'Airlines',\n",
       " 'USA',\n",
       " '9.37B',\n",
       " '43.68',\n",
       " '14.06',\n",
       " '1.84%',\n",
       " '12,886,051',\n",
       " '10',\n",
       " 'AAM',\n",
       " 'AA Mission Acquisition Corp',\n",
       " 'Financial',\n",
       " 'Shell Companies',\n",
       " 'USA',\n",
       " '528.63M',\n",
       " '-',\n",
       " '10.05',\n",
       " '-0.10%',\n",
       " '51,100',\n",
       " '11',\n",
       " 'AAM-U',\n",
       " 'AA Mission Acquisition Corp',\n",
       " 'Financial',\n",
       " 'Shell Companies',\n",
       " 'USA',\n",
       " '-',\n",
       " '-',\n",
       " '10.07',\n",
       " '0.00%',\n",
       " '3,969',\n",
       " '12',\n",
       " 'AAME',\n",
       " 'Atlantic American Corp',\n",
       " 'Financial',\n",
       " 'Insurance - Life',\n",
       " 'USA',\n",
       " '34.52M',\n",
       " '-',\n",
       " '1.65',\n",
       " '-2.51%',\n",
       " '3,577',\n",
       " '13',\n",
       " 'AAOI',\n",
       " 'Applied Optoelectronics Inc',\n",
       " 'Technology',\n",
       " 'Communication Equipment',\n",
       " 'USA',\n",
       " '1.85B',\n",
       " '-',\n",
       " '26.52',\n",
       " '-4.47%',\n",
       " '5,346,913',\n",
       " '14',\n",
       " 'AAON',\n",
       " 'AAON Inc',\n",
       " 'Industrials',\n",
       " 'Building Products & Equipment',\n",
       " 'USA',\n",
       " '13.33B',\n",
       " '61.86',\n",
       " '141.33',\n",
       " '2.24%',\n",
       " '293,162',\n",
       " '15',\n",
       " 'AAP',\n",
       " 'Advance Auto Parts Inc',\n",
       " 'Consumer Cyclical',\n",
       " 'Specialty Retail',\n",
       " 'USA',\n",
       " '2.27B',\n",
       " '3368.25',\n",
       " '39.07',\n",
       " '3.09%',\n",
       " '942,037',\n",
       " '16',\n",
       " 'AAPB',\n",
       " 'GraniteShares 2x Long AAPL Daily ETF',\n",
       " 'Financial',\n",
       " 'Exchange Traded Fund',\n",
       " 'USA',\n",
       " '-',\n",
       " '-',\n",
       " '26.91',\n",
       " '-4.61%',\n",
       " '92,920',\n",
       " '17',\n",
       " 'AAPD',\n",
       " 'Direxion Daily AAPL Bear 1X Shares',\n",
       " 'Financial',\n",
       " 'Exchange Traded Fund',\n",
       " 'USA',\n",
       " '-',\n",
       " '-',\n",
       " '17.30',\n",
       " '2.37%',\n",
       " '137,006',\n",
       " '18',\n",
       " 'AAPL',\n",
       " 'Apple Inc',\n",
       " 'Technology',\n",
       " 'Consumer Electronics',\n",
       " 'USA',\n",
       " '3346.99B',\n",
       " '36.56',\n",
       " '221.93',\n",
       " '-2.22%',\n",
       " '24,162,944',\n",
       " '19',\n",
       " 'AAPR',\n",
       " 'Innovator Equity Defined Protection ETF - 2 Yr to April 2026',\n",
       " 'Financial',\n",
       " 'Exchange Traded Fund',\n",
       " 'USA',\n",
       " '-',\n",
       " '-',\n",
       " '26.39',\n",
       " '-0.04%',\n",
       " '106',\n",
       " '20',\n",
       " 'AAPU',\n",
       " 'Direxion Daily AAPL Bull 2X Shares',\n",
       " 'Financial',\n",
       " 'Exchange Traded Fund',\n",
       " 'USA',\n",
       " '-',\n",
       " '-',\n",
       " '34.05',\n",
       " '-4.65%',\n",
       " '481,602']"
      ]
     },
     "execution_count": 16,
     "metadata": {},
     "output_type": "execute_result"
    }
   ],
   "source": [
    "values"
   ]
  },
  {
   "cell_type": "code",
   "execution_count": 7,
   "metadata": {},
   "outputs": [],
   "source": [
    "inputElement = driver.find_element(By.XPATH, \"//table[@class='styled-table-new is-rounded is-tabular-nums w-full screener_table']\")"
   ]
  },
  {
   "cell_type": "code",
   "execution_count": 22,
   "metadata": {},
   "outputs": [],
   "source": [
    "search_list = list(range(i, 9921,20))\n"
   ]
  },
  {
   "cell_type": "code",
   "execution_count": 20,
   "metadata": {},
   "outputs": [],
   "source": [
    "search_list = list(range(1, 9921,20))"
   ]
  },
  {
   "cell_type": "code",
   "execution_count": 10,
   "metadata": {},
   "outputs": [
    {
     "name": "stdout",
     "output_type": "stream",
     "text": [
      "2081\n",
      "2101\n",
      "2121\n",
      "2141\n",
      "2161\n",
      "2181\n",
      "2201\n",
      "2221\n",
      "2241\n",
      "2261\n",
      "2281\n",
      "2301\n",
      "2321\n",
      "2341\n",
      "2361\n",
      "2381\n",
      "2401\n",
      "2421\n",
      "2441\n",
      "2461\n",
      "2481\n",
      "2501\n",
      "2521\n",
      "2541\n",
      "2561\n",
      "2581\n",
      "2601\n",
      "2621\n",
      "2641\n",
      "2661\n",
      "2681\n",
      "2701\n",
      "2721\n",
      "2741\n",
      "2761\n",
      "2781\n",
      "2801\n",
      "2821\n",
      "2841\n",
      "2861\n",
      "2881\n",
      "2901\n",
      "2921\n",
      "2941\n",
      "2961\n",
      "2981\n",
      "3001\n",
      "3021\n",
      "3041\n",
      "3061\n",
      "3081\n",
      "3101\n",
      "3121\n",
      "3141\n",
      "3161\n",
      "3181\n",
      "3201\n",
      "3221\n",
      "3241\n",
      "3261\n",
      "3281\n",
      "3301\n",
      "3321\n",
      "3341\n",
      "3361\n",
      "3381\n",
      "3401\n",
      "3421\n",
      "3441\n",
      "3461\n",
      "3481\n",
      "3501\n",
      "3521\n",
      "3541\n",
      "3561\n",
      "3581\n",
      "3601\n",
      "3621\n",
      "3641\n",
      "3661\n",
      "3681\n",
      "3701\n",
      "3721\n",
      "3741\n",
      "3761\n",
      "3781\n",
      "3801\n",
      "3821\n",
      "3841\n",
      "3861\n",
      "3881\n",
      "3901\n",
      "3921\n",
      "3941\n",
      "3961\n",
      "3981\n",
      "4001\n",
      "4021\n",
      "4041\n",
      "4061\n",
      "4081\n",
      "4101\n",
      "4121\n",
      "4141\n",
      "4161\n",
      "4181\n",
      "4201\n",
      "4221\n",
      "4241\n",
      "4261\n",
      "4281\n",
      "4301\n",
      "4321\n",
      "4341\n",
      "4361\n",
      "4381\n",
      "4401\n",
      "4421\n",
      "4441\n",
      "4461\n",
      "4481\n",
      "4501\n",
      "4521\n",
      "4541\n",
      "4561\n",
      "4581\n",
      "4601\n",
      "4621\n",
      "4641\n",
      "4661\n",
      "4681\n",
      "4701\n",
      "4721\n",
      "4741\n",
      "4761\n",
      "4781\n",
      "4801\n",
      "4821\n",
      "4841\n",
      "4861\n",
      "4881\n",
      "4901\n",
      "4921\n",
      "4941\n",
      "4961\n",
      "4981\n",
      "5001\n",
      "5021\n",
      "5041\n",
      "5061\n",
      "5081\n",
      "5101\n",
      "5121\n",
      "5141\n",
      "5161\n",
      "5181\n",
      "5201\n",
      "5221\n",
      "5241\n",
      "5261\n",
      "5281\n",
      "5301\n",
      "5321\n",
      "5341\n",
      "5361\n",
      "5381\n",
      "5401\n",
      "5421\n",
      "5441\n",
      "5461\n",
      "5481\n",
      "5501\n",
      "5521\n",
      "5541\n",
      "5561\n",
      "5581\n",
      "5601\n",
      "5621\n",
      "5641\n",
      "5661\n",
      "5681\n",
      "5701\n",
      "5721\n",
      "5741\n",
      "5761\n",
      "5781\n",
      "5801\n",
      "5821\n",
      "5841\n",
      "5861\n",
      "5881\n",
      "5901\n",
      "5921\n",
      "5941\n",
      "5961\n",
      "5981\n",
      "6001\n",
      "6021\n",
      "6041\n",
      "6061\n",
      "6081\n",
      "6101\n",
      "6121\n",
      "6141\n",
      "6161\n",
      "6181\n",
      "6201\n",
      "6221\n",
      "6241\n",
      "6261\n",
      "6281\n",
      "6301\n",
      "6321\n",
      "6341\n",
      "6361\n",
      "6381\n",
      "6401\n",
      "6421\n",
      "6441\n",
      "6461\n",
      "6481\n",
      "6501\n",
      "6521\n",
      "6541\n",
      "6561\n",
      "6581\n",
      "6601\n",
      "6621\n",
      "6641\n",
      "6661\n",
      "6681\n",
      "6701\n",
      "6721\n",
      "6741\n",
      "6761\n",
      "6781\n",
      "6801\n",
      "6821\n",
      "6841\n",
      "6861\n",
      "6881\n",
      "6901\n",
      "6921\n",
      "6941\n",
      "6961\n",
      "6981\n",
      "7001\n",
      "7021\n",
      "7041\n",
      "7061\n",
      "7081\n",
      "7101\n",
      "7121\n",
      "7141\n",
      "7161\n",
      "7181\n",
      "7201\n",
      "7221\n",
      "7241\n",
      "7261\n",
      "7281\n",
      "7301\n",
      "7321\n",
      "7341\n",
      "7361\n",
      "7381\n",
      "7401\n",
      "7421\n",
      "7441\n",
      "7461\n",
      "7481\n",
      "7501\n",
      "7521\n",
      "7541\n",
      "7561\n",
      "7581\n",
      "7601\n",
      "7621\n",
      "7641\n",
      "7661\n",
      "7681\n",
      "7701\n",
      "7721\n",
      "7741\n",
      "7761\n",
      "7781\n",
      "7801\n",
      "7821\n",
      "7841\n",
      "7861\n",
      "7881\n",
      "7901\n",
      "7921\n",
      "7941\n",
      "7961\n",
      "7981\n",
      "8001\n",
      "8021\n",
      "8041\n",
      "8061\n",
      "8081\n",
      "8101\n",
      "8121\n",
      "8141\n",
      "8161\n",
      "8181\n",
      "8201\n",
      "8221\n",
      "8241\n",
      "8261\n",
      "8281\n",
      "8301\n",
      "8321\n",
      "8341\n",
      "8361\n",
      "8381\n",
      "8401\n",
      "8421\n",
      "8441\n",
      "8461\n",
      "8481\n",
      "8501\n",
      "8521\n",
      "8541\n",
      "8561\n",
      "8581\n",
      "8601\n",
      "8621\n",
      "8641\n",
      "8661\n",
      "8681\n",
      "8701\n",
      "8721\n",
      "8741\n",
      "8761\n",
      "8781\n",
      "8801\n",
      "8821\n",
      "8841\n",
      "8861\n",
      "8881\n",
      "8901\n",
      "8921\n",
      "8941\n",
      "8961\n",
      "8981\n",
      "9001\n",
      "9021\n",
      "9041\n",
      "9061\n",
      "9081\n",
      "9101\n",
      "9121\n",
      "9141\n",
      "9161\n",
      "9181\n",
      "9201\n",
      "9221\n",
      "9241\n",
      "9261\n",
      "9281\n",
      "9301\n",
      "9321\n",
      "9341\n",
      "9361\n",
      "9381\n",
      "9401\n",
      "9421\n",
      "9441\n",
      "9461\n",
      "9481\n",
      "9501\n",
      "9521\n",
      "9541\n",
      "9561\n",
      "9581\n",
      "9601\n",
      "9621\n",
      "9641\n",
      "9661\n",
      "9681\n",
      "9701\n",
      "9721\n",
      "9741\n",
      "9761\n",
      "9781\n",
      "9801\n",
      "9821\n",
      "9841\n",
      "9861\n",
      "9881\n",
      "9901\n"
     ]
    }
   ],
   "source": [
    "\n",
    "for i in search_list:\n",
    "    print(i)"
   ]
  },
  {
   "cell_type": "code",
   "execution_count": 4,
   "metadata": {},
   "outputs": [],
   "source": [
    "import pandas as pd\n",
    "now = datetime.now()\n",
    "main_df = pd.DataFrame()\n",
    "as_of_date = now.strftime(\"%Y%m%d_%H_%M\")\n",
    "search_list = list(range(1,9721,20))"
   ]
  },
  {
   "cell_type": "code",
   "execution_count": 24,
   "metadata": {
    "scrolled": true
   },
   "outputs": [
    {
     "data": {
      "text/plain": [
       "9221"
      ]
     },
     "execution_count": 24,
     "metadata": {},
     "output_type": "execute_result"
    }
   ],
   "source": [
    "i"
   ]
  },
  {
   "cell_type": "code",
   "execution_count": null,
   "metadata": {},
   "outputs": [],
   "source": [
    "\n",
    "\n",
    "\n",
    "\n",
    "\n",
    "import os\n",
    "how_many = 0\n",
    "while how_many <10:\n",
    "    for i in search_list:\n",
    "        #print(i)\n",
    "        d0f_dict = {};\n",
    "        driver.get(r'https://finviz.com/screener.ashx?v=111&r='+str(i))\n",
    "        time.sleep(1)\n",
    "    \n",
    "        \n",
    "        inputElement = driver.find_element(By.XPATH, \"//table[@class='styled-table-new is-rounded is-tabular-nums w-full screener_table']\")\n",
    "        the_text = inputElement.text\n",
    "        keysy =the_text.split(\"\\n\")[0].split(\" \")\n",
    "        values  =the_text.split(\"\\n\")[1:]\n",
    "            #print(the_text)\n",
    "        values_loop = 0\n",
    "            #print(values_loop)\n",
    "            #print(values)\n",
    "        #print('ww' +str(55))\n",
    "        for value in values:\n",
    "                \n",
    "            if values_loop == len(keysy):\n",
    "                values_loop = 0\n",
    "                main_df= pd.concat([main_df, temp_df])    \n",
    "                #else:\n",
    "            elif values_loop ==7:\n",
    "                values_loop +=1\n",
    "               # print(value)\n",
    "                #print(keysy)\n",
    "                #print(values_loop)\n",
    "                #print(keysy[values_loop])\n",
    "                #print(value)\n",
    "            df_dict[keysy[values_loop]] = value\n",
    "            values_loop +=1\n",
    "            \n",
    "            now = datetime.now()\n",
    "                \n",
    "            dt_string = now.strftime(\"%Y%m%d_%H_%M\")\n",
    "                    \n",
    "                #df_dict['current_price'] = the_text_2\n",
    "                    \n",
    "            temp_df = pd.DataFrame(df_dict, index=[0])\n",
    "            temp_df['ticker'] = i;\n",
    "            temp_df['time'] = dt_string;\n",
    "            #print(temp_df)\n",
    "                #print(temp_df)\n",
    "        \n",
    "            \n",
    "            \n",
    "        del temp_df\n",
    "                #print(main_df)\n",
    "            \n",
    "            \n",
    "            \n",
    "            \n",
    "            \n",
    "                \n",
    "        #except WebDriverException:\n",
    "            \n",
    "        #    unwanzted_tickers.append(i)\n",
    "        \n",
    "    main_df.to_csv(r'finviz_'+str(as_of_date[0:8])+r'.csv')    \n",
    "    print(how_many)\n",
    "    how_many = how_many+1\n",
    "    \n",
    "    \n",
    "#main_df[\"Volume\"]=main_df[\"Volume\"].str.replace(\",\",\"\")\n",
    "#main_df[\"Avg. Volume\"]=main_df[\"Avg. Volume\"].str.replace(\",\",\"\")\n",
    "#main_df[\"Volume\"]=main_df[\"Volume\"].str.replace(\".\",\",\")\n",
    "#main_df[\"Avg. Volume\"]=main_df[\"Avg. Volume\"].str.replace(\".\",\",\")\n",
    "#main_df[\"Volume\"]=main_df[\"Volume\"].str.r eplace(\"--\",\"0\")\n",
    "#main_df[\"Avg. Volume\"]=main_df[\"Avg. Volume\"].str.replace(\"--\",\"0\")\n",
    "#main_df[\"variance\"] = main_df[\"Volume\"].astype(float)/main_df[\"Avg. Volume\"].astype(float)\n",
    "#0o\n",
    "\n",
    "\n",
    "\n",
    "#main_df.to_csv(r'main_df2000_'+str(dt_string[0:8])+r'.csv')\n",
    "#\n",
    "#main_df['ticker'][(abs(main_df[\"variance\"])>2)&(main_df[\"Avg. Volume\"].astype(float)!=0)&(main_df[\"Avg. Volume\"].astype(float)>10000)].to_excel(r'increased_volume.xlsx', index = False)\n",
    "#"
   ]
  },
  {
   "cell_type": "code",
   "execution_count": null,
   "metadata": {
    "collapsed": true
   },
   "outputs": [],
   "source": []
  },
  {
   "cell_type": "markdown",
   "metadata": {},
   "source": [
    "# "
   ]
  },
  {
   "cell_type": "code",
   "execution_count": 25,
   "metadata": {},
   "outputs": [],
   "source": [
    "main_df.to_csv(r'finviz_'+str(as_of_date[0:8])+r'.csv') "
   ]
  },
  {
   "cell_type": "code",
   "execution_count": 21,
   "metadata": {},
   "outputs": [
    {
     "data": {
      "text/plain": [
       "9501"
      ]
     },
     "execution_count": 21,
     "metadata": {},
     "output_type": "execute_result"
    }
   ],
   "source": [
    "i"
   ]
  },
  {
   "cell_type": "code",
   "execution_count": null,
   "metadata": {},
   "outputs": [],
   "source": []
  },
  {
   "cell_type": "code",
   "execution_count": null,
   "metadata": {},
   "outputs": [],
   "source": [
    "import numpy as np\n",
    "import os\n",
    "tdf_td=[];\n",
    "tdf_td  = [i for i in os.listdir() if i.startswith('finviz_') ]\n",
    "def std(x): \n",
    "    return np.std(x)\n",
    "\n",
    "import pandas as pd\n",
    "full_df = pd.DataFrame()\n",
    "for i in tdf_td:\n",
    "    part_df = pd.read_csv(os.path.join(os.getcwd(), i))\n",
    "    full_df = pd.concat([full_df,part_df])\n",
    "    \n",
    "full_df[\"Volume\"]= full_df[\"Volume\"].apply(lambda x: x.replace(',',''))\n",
    "full_df[\"Volume\"]= full_df[\"Volume\"].apply(lambda x: float(x.replace('-','0')))\n",
    "full_df.drop(columns = ['Unnamed: 0'], inplace = True)\n",
    "grouped_by_ticker = full_df[['Ticker', 'Volume']].groupby('Ticker').agg(['mean',std])\n",
    "grouped_by_ticker.reset_index(inplace = True)\n",
    "#grouped_by_ticker.rename(columns= {'Volume': 'Avg. Volume'}, inplace = True)\n",
    "grouped_by_ticker.columns = grouped_by_ticker.columns.get_level_values(0)\n",
    "grouped_by_ticker.columns = ['Ticker', 'Mean', 'St_dev']\n",
    "\n",
    "\n",
    "last_df = pd.read_csv(os.path.join(os.getcwd(), tdf_td[-1]))\n",
    "last_df[\"Volume\"]= last_df[\"Volume\"].apply(lambda x: x.replace(',',''))\n",
    "last_df[\"Volume\"]= last_df[\"Volume\"].apply(lambda x: float(x.replace('-','0')))\n",
    "last_df.drop(columns = ['Unnamed: 0'], inplace = True)\n",
    "\n",
    "last_df = last_df.merge(grouped_by_ticker, left_on = 'Ticker', right_on = 'Ticker', how ='inner')"
   ]
  },
  {
   "cell_type": "code",
   "execution_count": null,
   "metadata": {},
   "outputs": [],
   "source": []
  },
  {
   "cell_type": "code",
   "execution_count": null,
   "metadata": {},
   "outputs": [],
   "source": []
  },
  {
   "cell_type": "code",
   "execution_count": null,
   "metadata": {},
   "outputs": [],
   "source": [
    "def calc_z_score(x,mean, std_dev):\n",
    "    return (x-mean)/std_dev\n",
    "import re\n",
    "def convert_big_numbers(x):\n",
    "    try:\n",
    "        \n",
    "        letter = re.findall(\"[A-Za-z]\", x)[0]\n",
    "        number = float(re.sub(letter[0],'', x))\n",
    "    \n",
    "        if letter =='B':\n",
    "            multipier = 1000000000\n",
    "        elif letter =='M':\n",
    "            multipier = 1000000\n",
    "        elif letter =='K':\n",
    "            multipier = 100000\n",
    "        else:\n",
    "            multipier = 1\n",
    "        \n",
    "        number = number*multipier\n",
    "    except:\n",
    "        #print(number)\n",
    "        number = 0\n",
    "    \n",
    "    return number\n",
    "\n",
    "last_df = last_df[last_df['St_dev']!=0]\n",
    "\n",
    "last_df['z_score'] =last_df.apply(lambda x: calc_z_score(x.Volume, x.Mean,x.St_dev), axis=1)\n",
    "last_df['abs_z_score'] =last_df['z_score'].apply(lambda x: abs(x))   \n",
    "last_df['Is_outlier'] ='N'\n",
    "last_df['Is_outlier'][(last_df['abs_z_score']>3.5)& (last_df['Mean']>2000000)] = 'Y'\n",
    "\n",
    "last_df['Market'] =  last_df['Market'].apply(lambda x: convert_big_numbers(x))\n",
    "\n",
    "last_df[(last_df['abs_z_score']>2)& (last_df['Mean']>2000000)].to_excel(r'finwiz_increased_'+as_of_date[:8]+'.xlsx', index = False)"
   ]
  },
  {
   "cell_type": "code",
   "execution_count": 107,
   "metadata": {},
   "outputs": [
    {
     "data": {
      "text/plain": [
       "array([3.6240e+10, 3.6260e+10, 3.6320e+10, ..., 2.4622e+08, 2.4052e+08,\n",
       "       2.4729e+08])"
      ]
     },
     "execution_count": 107,
     "metadata": {},
     "output_type": "execute_result"
    }
   ],
   "source": [
    "last_df['Market'].unique()"
   ]
  },
  {
   "cell_type": "code",
   "execution_count": null,
   "metadata": {},
   "outputs": [],
   "source": [
    "last_df"
   ]
  },
  {
   "cell_type": "code",
   "execution_count": 94,
   "metadata": {},
   "outputs": [],
   "source": [
    "import re\n",
    "def convertbig_numbers(x):\n",
    "    letter = re.findall(\"[A-Za-z]\", x)[0]\n",
    "    number = float(re.sub(letter[0],'', x))\n",
    "    \n",
    "    if letter =='B':\n",
    "        multipier = 1000000000\n",
    "    elif letter =='M':\n",
    "        multipier = 1000000\n",
    "    elif letter =='K':\n",
    "        multipier = 100000\n",
    "    else:\n",
    "        multipier = 1\n",
    "    \n",
    "    number = number*multipier\n",
    "        \n",
    "    \n",
    "    return number"
   ]
  },
  {
   "cell_type": "code",
   "execution_count": 95,
   "metadata": {},
   "outputs": [],
   "source": [
    "number =  convertbig_numbers('36.24B')"
   ]
  },
  {
   "cell_type": "code",
   "execution_count": 96,
   "metadata": {},
   "outputs": [
    {
     "data": {
      "text/plain": [
       "36240000000.0"
      ]
     },
     "execution_count": 96,
     "metadata": {},
     "output_type": "execute_result"
    }
   ],
   "source": [
    "number"
   ]
  },
  {
   "cell_type": "code",
   "execution_count": 25,
   "metadata": {},
   "outputs": [],
   "source": [
    "main_df.to_csv(r'main_df_1000'+str(dt_string[8]))"
   ]
  },
  {
   "cell_type": "code",
   "execution_count": 12,
   "metadata": {},
   "outputs": [],
   "source": [
    "unwanted_tickers_df = pd.DataFrame(unwanted_tickers, columns = [\"un_tick\"])"
   ]
  },
  {
   "cell_type": "code",
   "execution_count": 13,
   "metadata": {},
   "outputs": [],
   "source": [
    "unwanted_tickers_df.to_csv(r'inw_tickers_4.csv')"
   ]
  },
  {
   "cell_type": "code",
   "execution_count": 52,
   "metadata": {},
   "outputs": [
    {
     "ename": "AttributeError",
     "evalue": "'str' object has no attribute 'decode'",
     "output_type": "error",
     "traceback": [
      "\u001b[1;31m---------------------------------------------------------------------------\u001b[0m",
      "\u001b[1;31mAttributeError\u001b[0m                            Traceback (most recent call last)",
      "\u001b[1;32m<ipython-input-52-22c5c49705f6>\u001b[0m in \u001b[0;36m<module>\u001b[1;34m\u001b[0m\n\u001b[1;32m----> 1\u001b[1;33m \u001b[0mdata\u001b[0m \u001b[1;33m=\u001b[0m \u001b[0mlist\u001b[0m\u001b[1;33m(\u001b[0m\u001b[0mmap\u001b[0m\u001b[1;33m(\u001b[0m\u001b[1;32mlambda\u001b[0m \u001b[0mx\u001b[0m\u001b[1;33m:\u001b[0m \u001b[0mx\u001b[0m\u001b[1;33m.\u001b[0m\u001b[0msplit\u001b[0m\u001b[1;33m(\u001b[0m\u001b[1;34m','\u001b[0m\u001b[1;33m)\u001b[0m\u001b[1;33m,\u001b[0m\u001b[0mthe_text\u001b[0m\u001b[1;33m.\u001b[0m\u001b[0mdecode\u001b[0m\u001b[1;33m(\u001b[0m\u001b[1;34m'utf-8'\u001b[0m\u001b[1;33m)\u001b[0m\u001b[1;33m.\u001b[0m\u001b[0msplit\u001b[0m\u001b[1;33m(\u001b[0m\u001b[1;34m\"\\r\\n\"\u001b[0m\u001b[1;33m)\u001b[0m\u001b[1;33m)\u001b[0m\u001b[1;33m)\u001b[0m\u001b[1;33m\u001b[0m\u001b[1;33m\u001b[0m\u001b[0m\n\u001b[0m",
      "\u001b[1;31mAttributeError\u001b[0m: 'str' object has no attribute 'decode'"
     ]
    }
   ],
   "source": [
    "data = list(map(lambda x: x.split(','),the_text.decode('utf-8').split(\"\\r\\n\")))"
   ]
  },
  {
   "cell_type": "code",
   "execution_count": 59,
   "metadata": {},
   "outputs": [],
   "source": [
    "df_dict = {};\n",
    "iter = 0\n",
    "for txt in the_text.split(\"\\n\"):\n",
    "    if iter%2 ==0:\n",
    "        key = txt\n",
    "    elif iter%2 ==1:\n",
    "        df_dict[key] = txt\n",
    "    iter +=1\n",
    "df_dict['current_price'] = the_text_2"
   ]
  },
  {
   "cell_type": "code",
   "execution_count": null,
   "metadata": {},
   "outputs": [],
   "source": [
    "df_dict"
   ]
  },
  {
   "cell_type": "code",
   "execution_count": 4,
   "metadata": {},
   "outputs": [],
   "source": [
    "item = driver.find_element(By.XPATH,\"//*[(@id='fth1')]\")"
   ]
  },
  {
   "cell_type": "code",
   "execution_count": null,
   "metadata": {},
   "outputs": [],
   "source": [
    "import pandas as pd\n",
    "tickers = pd.read_csv(r'tickers.csv')"
   ]
  },
  {
   "cell_type": "code",
   "execution_count": 15,
   "metadata": {},
   "outputs": [
    {
     "data": {
      "text/plain": [
       "30"
      ]
     },
     "execution_count": 15,
     "metadata": {},
     "output_type": "execute_result"
    }
   ],
   "source": [
    "len(main_df)"
   ]
  },
  {
   "cell_type": "code",
   "execution_count": 4,
   "metadata": {},
   "outputs": [],
   "source": [
    "t4= pd.read_csv(r'inw_tickers_4.csv')\n",
    "t3= pd.read_csv(r'inw_tickers_3.csv')\n",
    "t1= pd.read_csv(r'inw_tickers_2.csv')\n",
    "#t1= pd.read_csv(r'inw_tickers_1.csv')\n",
    "t= pd.read_csv(r'inw_tickers.csv')"
   ]
  },
  {
   "cell_type": "code",
   "execution_count": null,
   "metadata": {},
   "outputs": [],
   "source": [
    "tt  = pd.concat([t,t1,t3,t4])"
   ]
  },
  {
   "cell_type": "code",
   "execution_count": null,
   "metadata": {},
   "outputs": [],
   "source": [
    "tt"
   ]
  },
  {
   "cell_type": "code",
   "execution_count": null,
   "metadata": {},
   "outputs": [],
   "source": [
    "for i in tt['un_tick']:\n",
    "    tickers = tickers[tickers['ticker'] != i]"
   ]
  },
  {
   "cell_type": "code",
   "execution_count": 12,
   "metadata": {},
   "outputs": [
    {
     "data": {
      "text/html": [
       "<div>\n",
       "<style scoped>\n",
       "    .dataframe tbody tr th:only-of-type {\n",
       "        vertical-align: middle;\n",
       "    }\n",
       "\n",
       "    .dataframe tbody tr th {\n",
       "        vertical-align: top;\n",
       "    }\n",
       "\n",
       "    .dataframe thead th {\n",
       "        text-align: right;\n",
       "    }\n",
       "</style>\n",
       "<table border=\"1\" class=\"dataframe\">\n",
       "  <thead>\n",
       "    <tr style=\"text-align: right;\">\n",
       "      <th></th>\n",
       "      <th>Unnamed: 0</th>\n",
       "      <th>ticker</th>\n",
       "    </tr>\n",
       "  </thead>\n",
       "  <tbody>\n",
       "    <tr>\n",
       "      <th>0</th>\n",
       "      <td>0</td>\n",
       "      <td>A</td>\n",
       "    </tr>\n",
       "    <tr>\n",
       "      <th>1</th>\n",
       "      <td>1</td>\n",
       "      <td>AA</td>\n",
       "    </tr>\n",
       "    <tr>\n",
       "      <th>2</th>\n",
       "      <td>2</td>\n",
       "      <td>AACG</td>\n",
       "    </tr>\n",
       "    <tr>\n",
       "      <th>7</th>\n",
       "      <td>7</td>\n",
       "      <td>AACT</td>\n",
       "    </tr>\n",
       "    <tr>\n",
       "      <th>8</th>\n",
       "      <td>8</td>\n",
       "      <td>AADI</td>\n",
       "    </tr>\n",
       "    <tr>\n",
       "      <th>...</th>\n",
       "      <td>...</td>\n",
       "      <td>...</td>\n",
       "    </tr>\n",
       "    <tr>\n",
       "      <th>8157</th>\n",
       "      <td>8157</td>\n",
       "      <td>ZWS</td>\n",
       "    </tr>\n",
       "    <tr>\n",
       "      <th>8158</th>\n",
       "      <td>8158</td>\n",
       "      <td>ZXIET</td>\n",
       "    </tr>\n",
       "    <tr>\n",
       "      <th>8159</th>\n",
       "      <td>8159</td>\n",
       "      <td>ZYME</td>\n",
       "    </tr>\n",
       "    <tr>\n",
       "      <th>8160</th>\n",
       "      <td>8160</td>\n",
       "      <td>ZYXI</td>\n",
       "    </tr>\n",
       "    <tr>\n",
       "      <th>8161</th>\n",
       "      <td>8161</td>\n",
       "      <td>ZZZ</td>\n",
       "    </tr>\n",
       "  </tbody>\n",
       "</table>\n",
       "<p>2239 rows × 2 columns</p>\n",
       "</div>"
      ],
      "text/plain": [
       "      Unnamed: 0 ticker\n",
       "0              0      A\n",
       "1              1     AA\n",
       "2              2   AACG\n",
       "7              7   AACT\n",
       "8              8   AADI\n",
       "...          ...    ...\n",
       "8157        8157    ZWS\n",
       "8158        8158  ZXIET\n",
       "8159        8159   ZYME\n",
       "8160        8160   ZYXI\n",
       "8161        8161    ZZZ\n",
       "\n",
       "[2239 rows x 2 columns]"
      ]
     },
     "execution_count": 12,
     "metadata": {},
     "output_type": "execute_result"
    }
   ],
   "source": [
    "tickers"
   ]
  },
  {
   "cell_type": "code",
   "execution_count": null,
   "metadata": {},
   "outputs": [],
   "source": [
    "tickers.to_csv(r'tickers_clear.csv')"
   ]
  },
  {
   "cell_type": "code",
   "execution_count": 13,
   "metadata": {},
   "outputs": [],
   "source": []
  },
  {
   "cell_type": "code",
   "execution_count": 6,
   "metadata": {},
   "outputs": [],
   "source": [
    "#tickers = []\n",
    "#for i in range(1,83):\n",
    "#    print(i)\n",
    "#    driver.get(\"https://stooq.pl/t/?i=518&v=0&l=\"+str(i))\n",
    "#    item = driver.find_element(By.XPATH,\"//*[(@id='fth1')]\")\n",
    "#    for it in item.text.split(\"\\n\"):\n",
    "#            \n",
    "#        tickers.append(it)"
   ]
  },
  {
   "cell_type": "code",
   "execution_count": 29,
   "metadata": {},
   "outputs": [],
   "source": [
    "tickers_2 = tickers"
   ]
  },
  {
   "cell_type": "code",
   "execution_count": 43,
   "metadata": {},
   "outputs": [
    {
     "data": {
      "text/plain": [
       "['AIBD.US',\n",
       " 'DIREXION',\n",
       " 'DAILY',\n",
       " 'AI',\n",
       " 'AND',\n",
       " 'BIG',\n",
       " 'DATA',\n",
       " 'BEAR',\n",
       " '2X',\n",
       " 'SHARES',\n",
       " '18.3381',\n",
       " '17',\n",
       " 'paź']"
      ]
     },
     "execution_count": 43,
     "metadata": {},
     "output_type": "execute_result"
    }
   ],
   "source": [
    "tickers_2[233].split(\" \")"
   ]
  },
  {
   "cell_type": "code",
   "execution_count": 39,
   "metadata": {},
   "outputs": [],
   "source": [
    "s = ['1', '2', '3', '4']\n",
    "tickers = list(map(lambda x: x.split(\".\")[0], tickers))[1:]"
   ]
  },
  {
   "cell_type": "code",
   "execution_count": 51,
   "metadata": {},
   "outputs": [],
   "source": [
    "import pandas as pd\n",
    "pd.DataFrame(tickers,columns = [\"ticker\"]).to_csv('tickers.csv')"
   ]
  },
  {
   "cell_type": "code",
   "execution_count": 47,
   "metadata": {},
   "outputs": [
    {
     "data": {
      "text/plain": [
       "'C:\\\\Users\\\\kzakr\\\\gielda'"
      ]
     },
     "execution_count": 47,
     "metadata": {},
     "output_type": "execute_result"
    }
   ],
   "source": [
    "os.getcwd()"
   ]
  },
  {
   "cell_type": "code",
   "execution_count": 48,
   "metadata": {},
   "outputs": [
    {
     "name": "stdout",
     "output_type": "stream",
     "text": [
      "[['P'], ['r'], ['e'], ['v'], ['i'], ['o'], ['u'], ['s'], [' '], ['C'], ['l'], ['o'], ['s'], ['e'], ['', ''], ['1'], ['3'], ['6'], ['.'], ['9'], ['3'], ['', ''], ['O'], ['p'], ['e'], ['n'], ['', ''], ['1'], ['3'], ['8'], ['.'], ['7'], ['1'], ['', ''], ['B'], ['i'], ['d'], ['', ''], ['-'], ['-'], ['', ''], ['A'], ['s'], ['k'], ['', ''], ['-'], ['-'], ['', ''], ['D'], ['a'], ['y'], [\"'\"], ['s'], [' '], ['R'], ['a'], ['n'], ['g'], ['e'], ['', ''], ['1'], ['3'], ['7'], ['.'], ['3'], ['8'], [' '], ['-'], [' '], ['1'], ['3'], ['8'], ['.'], ['9'], ['0'], ['', ''], ['5'], ['2'], [' '], ['W'], ['e'], ['e'], ['k'], [' '], ['R'], ['a'], ['n'], ['g'], ['e'], ['', ''], ['3'], ['9'], ['.'], ['2'], ['3'], [' '], ['-'], [' '], ['1'], ['4'], ['0'], ['.'], ['8'], ['9'], ['', ''], ['V'], ['o'], ['l'], ['u'], ['m'], ['e'], ['', ''], ['9'], ['0'], [','], ['1'], ['6'], ['8'], [','], ['1'], ['9'], ['3'], ['', ''], ['A'], ['v'], ['g'], ['.'], [' '], ['V'], ['o'], ['l'], ['u'], ['m'], ['e'], ['', ''], ['3'], ['2'], ['5'], [','], ['5'], ['0'], ['2'], [','], ['9'], ['0'], ['4'], ['', ''], ['M'], ['a'], ['r'], ['k'], ['e'], ['t'], [' '], ['C'], ['a'], ['p'], [' '], ['('], ['i'], ['n'], ['t'], ['r'], ['a'], ['d'], ['a'], ['y'], [')'], ['', ''], ['3'], ['.'], ['3'], ['8'], ['T'], ['', ''], ['B'], ['e'], ['t'], ['a'], [' '], ['('], ['5'], ['Y'], [' '], ['M'], ['o'], ['n'], ['t'], ['h'], ['l'], ['y'], [')'], ['', ''], ['1'], ['.'], ['6'], ['7'], ['', ''], ['P'], ['E'], [' '], ['R'], ['a'], ['t'], ['i'], ['o'], [' '], ['('], ['T'], ['T'], ['M'], [')'], ['', ''], ['6'], ['4'], ['.'], ['3'], ['9'], ['', ''], ['E'], ['P'], ['S'], [' '], ['('], ['T'], ['T'], ['M'], [')'], ['', ''], ['2'], ['.'], ['1'], ['4'], ['', ''], ['E'], ['a'], ['r'], ['n'], ['i'], ['n'], ['g'], ['s'], [' '], ['D'], ['a'], ['t'], ['e'], ['', ''], ['N'], ['o'], ['v'], [' '], ['2'], ['1'], [','], [' '], ['2'], ['0'], ['2'], ['4'], ['', ''], ['F'], ['o'], ['r'], ['w'], ['a'], ['r'], ['d'], [' '], ['D'], ['i'], ['v'], ['i'], ['d'], ['e'], ['n'], ['d'], [' '], ['&'], [' '], ['Y'], ['i'], ['e'], ['l'], ['d'], ['', ''], ['0'], ['.'], ['0'], ['4'], [' '], ['('], ['0'], ['.'], ['0'], ['3'], ['%'], [')'], ['', ''], ['E'], ['x'], ['-'], ['D'], ['i'], ['v'], ['i'], ['d'], ['e'], ['n'], ['d'], [' '], ['D'], ['a'], ['t'], ['e'], ['', ''], ['S'], ['e'], ['p'], [' '], ['1'], ['2'], [','], [' '], ['2'], ['0'], ['2'], ['4'], ['', ''], ['1'], ['y'], [' '], ['T'], ['a'], ['r'], ['g'], ['e'], ['t'], [' '], ['E'], ['s'], ['t'], ['', ''], ['1'], ['4'], ['9'], ['.'], ['0'], ['3']]\n"
     ]
    },
    {
     "ename": "NameError",
     "evalue": "name 'pd' is not defined",
     "output_type": "error",
     "traceback": [
      "\u001b[1;31m---------------------------------------------------------------------------\u001b[0m",
      "\u001b[1;31mNameError\u001b[0m                                 Traceback (most recent call last)",
      "\u001b[1;32m<ipython-input-48-a4f05257b225>\u001b[0m in \u001b[0;36m<module>\u001b[1;34m\u001b[0m\n\u001b[0;32m      1\u001b[0m \u001b[0mmat\u001b[0m \u001b[1;33m=\u001b[0m \u001b[1;33m[\u001b[0m\u001b[0mn\u001b[0m\u001b[1;33m.\u001b[0m\u001b[0msplit\u001b[0m\u001b[1;33m(\u001b[0m\u001b[1;34m'\\n'\u001b[0m\u001b[1;33m)\u001b[0m \u001b[1;32mfor\u001b[0m \u001b[0mn\u001b[0m \u001b[1;32min\u001b[0m \u001b[0mthe_text\u001b[0m\u001b[1;33m]\u001b[0m\u001b[1;33m\u001b[0m\u001b[1;33m\u001b[0m\u001b[0m\n\u001b[0;32m      2\u001b[0m \u001b[0mprint\u001b[0m\u001b[1;33m(\u001b[0m\u001b[0mmat\u001b[0m\u001b[1;33m)\u001b[0m\u001b[1;33m\u001b[0m\u001b[1;33m\u001b[0m\u001b[0m\n\u001b[1;32m----> 3\u001b[1;33m \u001b[0mnewdf1\u001b[0m \u001b[1;33m=\u001b[0m \u001b[0mpd\u001b[0m\u001b[1;33m.\u001b[0m\u001b[0mDataFrame\u001b[0m\u001b[1;33m(\u001b[0m\u001b[0mmat\u001b[0m\u001b[1;33m)\u001b[0m\u001b[1;33m\u001b[0m\u001b[1;33m\u001b[0m\u001b[0m\n\u001b[0m",
      "\u001b[1;31mNameError\u001b[0m: name 'pd' is not defined"
     ]
    }
   ],
   "source": [
    "mat = [n.split('\\n') for n in the_text_list]\n",
    "print(mat)\n",
    "newdf1 = pd.DataFrame(mat)"
   ]
  },
  {
   "cell_type": "code",
   "execution_count": 46,
   "metadata": {},
   "outputs": [],
   "source": [
    "the_text_list = [the_text]"
   ]
  },
  {
   "cell_type": "code",
   "execution_count": 58,
   "metadata": {},
   "outputs": [
    {
     "data": {
      "text/plain": [
       "'137.71'"
      ]
     },
     "execution_count": 58,
     "metadata": {},
     "output_type": "execute_result"
    }
   ],
   "source": [
    "the_text_2"
   ]
  },
  {
   "cell_type": "raw",
   "metadata": {},
   "source": [
    "#driver.find_element(\"id\", \"fw1014\").send_keys(\"USD\");\n",
    "\n",
    "driver.find_element(By.XPATH, \"//input[@placeholder='Szukaj']\").send_keys(\"PLN/USD\")"
   ]
  },
  {
   "cell_type": "code",
   "execution_count": null,
   "metadata": {},
   "outputs": [],
   "source": [
    "driver.find_element(By.XPATH, \"//button[@title='Resetuj']\").send_keys(Keys.RETURN)"
   ]
  },
  {
   "cell_type": "code",
   "execution_count": null,
   "metadata": {},
   "outputs": [],
   "source": [
    "click_Menu = driver.find_element(By.XPATH, \"//div[@title='EUR/PLN']\")\n",
    "ActionChains(driver).move_to_element(click_Menu).context_click(click_Menu).perform()"
   ]
  },
  {
   "cell_type": "code",
   "execution_count": 34,
   "metadata": {},
   "outputs": [],
   "source": [
    "click_chart = driver.find_element(By.XPATH, \"//li[@data-menu-item-id='53073']\")\n",
    "ActionChains(driver).move_to_element(click_chart).click(click_chart).perform()"
   ]
  },
  {
   "cell_type": "code",
   "execution_count": null,
   "metadata": {},
   "outputs": [],
   "source": [
    "driver.find_element(By.XPATH, \"//button[@title='Resetuj']\").send_keys(Keys.RETURN)"
   ]
  },
  {
   "cell_type": "code",
   "execution_count": 33,
   "metadata": {},
   "outputs": [],
   "source": [
    "<li class=\"menu-item menu-item--default has-icon\" data-menu-item-id=\"53073\"><svg data-classes=\"icon-chart\" class=\"icon-svg icon-chart icon-svg--size16\" focusable=\"false\" tabindex=\"-1\" viewBox=\"0 0 1024 1024 \" preserveAspectRatio=\"xMidYMid meet\"><path class=\"p-1\" d=\"M992 960h-960c-19.2 0-32 12.8-32 32s12.8 32 32 32h960c19.2 0 32-12.8 32-32s-12.8-32-32-32zM64 480c0 17.664-14.336 32-32 32s-32-14.336-32-32c0-17.664 14.336-32 32-32s32 14.336 32 32zM192 352c0 17.664-14.336 32-32 32s-32-14.336-32-32c0-17.664 14.336-32 32-32s32 14.336 32 32zM448 608c0 17.664-14.336 32-32 32s-32-14.336-32-32c0-17.664 14.336-32 32-32s32 14.336 32 32zM1024 32c0 17.664-14.336 32-32 32s-32-14.336-32-32c0-17.664 14.336-32 32-32s32 14.336 32 32z\"></path><path class=\"p-2\" d=\"M416 652.8l-256-256-105.6 105.6-44.8-44.8 150.4-150.4 256 256 556.8-556.8 44.8 44.8z\"></path></svg><span class=\"label\">Wykres</span></li>"
   ]
  },
  {
   "cell_type": "code",
   "execution_count": 28,
   "metadata": {},
   "outputs": [
    {
     "data": {
      "text/plain": [
       "<selenium.webdriver.remote.webelement.WebElement (session=\"e20c427f9e89f3400f15bc0e1f4fc914\", element=\"f.69CA69FCDA8749F4A57D65155D14E5D5.d.AC541F34F96253D80B1A12B60BDFA865.e.3204\")>"
      ]
     },
     "execution_count": 28,
     "metadata": {},
     "output_type": "execute_result"
    }
   ],
   "source": [
    "driver.find_element(By.XPATH, \"//input[contains(@type,'submit')]\").send_keys(Keys.RETURN)"
   ]
  },
  {
   "cell_type": "code",
   "execution_count": 26,
   "metadata": {},
   "outputs": [
    {
     "ename": "NoSuchElementException",
     "evalue": "Message: no such element: Unable to locate element: {\"method\":\"xpath\",\"selector\":\"//div[@title='PLN/USD']\"}\n  (Session info: chrome=127.0.6533.89); For documentation on this error, please visit: https://www.selenium.dev/documentation/webdriver/troubleshooting/errors#no-such-element-exception\nStacktrace:\n\tGetHandleVerifier [0x00007FF7359A9632+30946]\n\t(No symbol) [0x00007FF73595E3C9]\n\t(No symbol) [0x00007FF735856FDA]\n\t(No symbol) [0x00007FF7358A822C]\n\t(No symbol) [0x00007FF7358A850C]\n\t(No symbol) [0x00007FF7358EDCB7]\n\t(No symbol) [0x00007FF7358CCAAF]\n\t(No symbol) [0x00007FF7358EB041]\n\t(No symbol) [0x00007FF7358CC813]\n\t(No symbol) [0x00007FF73589A6E5]\n\t(No symbol) [0x00007FF73589B021]\n\tGetHandleVerifier [0x00007FF735ADF83D+1301229]\n\tGetHandleVerifier [0x00007FF735AEBDB7+1351783]\n\tGetHandleVerifier [0x00007FF735AE2A03+1313971]\n\tGetHandleVerifier [0x00007FF7359DDD06+245686]\n\t(No symbol) [0x00007FF73596758F]\n\t(No symbol) [0x00007FF735963804]\n\t(No symbol) [0x00007FF735963992]\n\t(No symbol) [0x00007FF73595A3EF]\n\tBaseThreadInitThunk [0x00007FFC3595257D+29]\n\tRtlUserThreadStart [0x00007FFC3720AF28+40]\n",
     "output_type": "error",
     "traceback": [
      "\u001b[1;31m---------------------------------------------------------------------------\u001b[0m",
      "\u001b[1;31mNoSuchElementException\u001b[0m                    Traceback (most recent call last)",
      "\u001b[1;32m<ipython-input-26-83f9e9f18f84>\u001b[0m in \u001b[0;36m<module>\u001b[1;34m\u001b[0m\n\u001b[1;32m----> 1\u001b[1;33m \u001b[0mParentElement\u001b[0m \u001b[1;33m=\u001b[0m \u001b[0mdriver\u001b[0m\u001b[1;33m.\u001b[0m\u001b[0mfind_element\u001b[0m\u001b[1;33m(\u001b[0m\u001b[0mBy\u001b[0m\u001b[1;33m.\u001b[0m\u001b[0mXPATH\u001b[0m\u001b[1;33m,\u001b[0m \u001b[1;34m\"//div[@title='PLN/USD']\"\u001b[0m\u001b[1;33m)\u001b[0m\u001b[1;33m\u001b[0m\u001b[1;33m\u001b[0m\u001b[0m\n\u001b[0m\u001b[0;32m      2\u001b[0m \u001b[0mproductToClick\u001b[0m \u001b[1;33m=\u001b[0m \u001b[0minStockButtonParent\u001b[0m\u001b[1;33m.\u001b[0m\u001b[0mfind_element\u001b[0m\u001b[1;33m(\u001b[0m\u001b[0mBy\u001b[0m\u001b[1;33m.\u001b[0m\u001b[0mXPATH\u001b[0m\u001b[1;33m,\u001b[0m \u001b[1;34m'.//*/div[1]/div/button'\u001b[0m\u001b[1;33m)\u001b[0m\u001b[1;33m\u001b[0m\u001b[1;33m\u001b[0m\u001b[0m\n\u001b[0;32m      3\u001b[0m \u001b[0mproductToClick\u001b[0m\u001b[1;33m.\u001b[0m\u001b[0msend_keys\u001b[0m\u001b[1;33m(\u001b[0m\u001b[0mKeys\u001b[0m\u001b[1;33m.\u001b[0m\u001b[0mRETURN\u001b[0m\u001b[1;33m)\u001b[0m\u001b[1;33m\u001b[0m\u001b[1;33m\u001b[0m\u001b[0m\n",
      "\u001b[1;32mC:\\pyt\\lib\\site-packages\\selenium\\webdriver\\remote\\webdriver.py\u001b[0m in \u001b[0;36mfind_element\u001b[1;34m(self, by, value)\u001b[0m\n\u001b[0;32m    740\u001b[0m             \u001b[0mvalue\u001b[0m \u001b[1;33m=\u001b[0m \u001b[1;34mf'[name=\"{value}\"]'\u001b[0m\u001b[1;33m\u001b[0m\u001b[1;33m\u001b[0m\u001b[0m\n\u001b[0;32m    741\u001b[0m \u001b[1;33m\u001b[0m\u001b[0m\n\u001b[1;32m--> 742\u001b[1;33m         \u001b[1;32mreturn\u001b[0m \u001b[0mself\u001b[0m\u001b[1;33m.\u001b[0m\u001b[0mexecute\u001b[0m\u001b[1;33m(\u001b[0m\u001b[0mCommand\u001b[0m\u001b[1;33m.\u001b[0m\u001b[0mFIND_ELEMENT\u001b[0m\u001b[1;33m,\u001b[0m \u001b[1;33m{\u001b[0m\u001b[1;34m\"using\"\u001b[0m\u001b[1;33m:\u001b[0m \u001b[0mby\u001b[0m\u001b[1;33m,\u001b[0m \u001b[1;34m\"value\"\u001b[0m\u001b[1;33m:\u001b[0m \u001b[0mvalue\u001b[0m\u001b[1;33m}\u001b[0m\u001b[1;33m)\u001b[0m\u001b[1;33m[\u001b[0m\u001b[1;34m\"value\"\u001b[0m\u001b[1;33m]\u001b[0m\u001b[1;33m\u001b[0m\u001b[1;33m\u001b[0m\u001b[0m\n\u001b[0m\u001b[0;32m    743\u001b[0m \u001b[1;33m\u001b[0m\u001b[0m\n\u001b[0;32m    744\u001b[0m     \u001b[1;32mdef\u001b[0m \u001b[0mfind_elements\u001b[0m\u001b[1;33m(\u001b[0m\u001b[0mself\u001b[0m\u001b[1;33m,\u001b[0m \u001b[0mby\u001b[0m\u001b[1;33m=\u001b[0m\u001b[0mBy\u001b[0m\u001b[1;33m.\u001b[0m\u001b[0mID\u001b[0m\u001b[1;33m,\u001b[0m \u001b[0mvalue\u001b[0m\u001b[1;33m:\u001b[0m \u001b[0mOptional\u001b[0m\u001b[1;33m[\u001b[0m\u001b[0mstr\u001b[0m\u001b[1;33m]\u001b[0m \u001b[1;33m=\u001b[0m \u001b[1;32mNone\u001b[0m\u001b[1;33m)\u001b[0m \u001b[1;33m->\u001b[0m \u001b[0mList\u001b[0m\u001b[1;33m[\u001b[0m\u001b[0mWebElement\u001b[0m\u001b[1;33m]\u001b[0m\u001b[1;33m:\u001b[0m\u001b[1;33m\u001b[0m\u001b[1;33m\u001b[0m\u001b[0m\n",
      "\u001b[1;32mC:\\pyt\\lib\\site-packages\\selenium\\webdriver\\remote\\webdriver.py\u001b[0m in \u001b[0;36mexecute\u001b[1;34m(self, driver_command, params)\u001b[0m\n\u001b[0;32m    346\u001b[0m         \u001b[0mresponse\u001b[0m \u001b[1;33m=\u001b[0m \u001b[0mself\u001b[0m\u001b[1;33m.\u001b[0m\u001b[0mcommand_executor\u001b[0m\u001b[1;33m.\u001b[0m\u001b[0mexecute\u001b[0m\u001b[1;33m(\u001b[0m\u001b[0mdriver_command\u001b[0m\u001b[1;33m,\u001b[0m \u001b[0mparams\u001b[0m\u001b[1;33m)\u001b[0m\u001b[1;33m\u001b[0m\u001b[1;33m\u001b[0m\u001b[0m\n\u001b[0;32m    347\u001b[0m         \u001b[1;32mif\u001b[0m \u001b[0mresponse\u001b[0m\u001b[1;33m:\u001b[0m\u001b[1;33m\u001b[0m\u001b[1;33m\u001b[0m\u001b[0m\n\u001b[1;32m--> 348\u001b[1;33m             \u001b[0mself\u001b[0m\u001b[1;33m.\u001b[0m\u001b[0merror_handler\u001b[0m\u001b[1;33m.\u001b[0m\u001b[0mcheck_response\u001b[0m\u001b[1;33m(\u001b[0m\u001b[0mresponse\u001b[0m\u001b[1;33m)\u001b[0m\u001b[1;33m\u001b[0m\u001b[1;33m\u001b[0m\u001b[0m\n\u001b[0m\u001b[0;32m    349\u001b[0m             \u001b[0mresponse\u001b[0m\u001b[1;33m[\u001b[0m\u001b[1;34m\"value\"\u001b[0m\u001b[1;33m]\u001b[0m \u001b[1;33m=\u001b[0m \u001b[0mself\u001b[0m\u001b[1;33m.\u001b[0m\u001b[0m_unwrap_value\u001b[0m\u001b[1;33m(\u001b[0m\u001b[0mresponse\u001b[0m\u001b[1;33m.\u001b[0m\u001b[0mget\u001b[0m\u001b[1;33m(\u001b[0m\u001b[1;34m\"value\"\u001b[0m\u001b[1;33m,\u001b[0m \u001b[1;32mNone\u001b[0m\u001b[1;33m)\u001b[0m\u001b[1;33m)\u001b[0m\u001b[1;33m\u001b[0m\u001b[1;33m\u001b[0m\u001b[0m\n\u001b[0;32m    350\u001b[0m             \u001b[1;32mreturn\u001b[0m \u001b[0mresponse\u001b[0m\u001b[1;33m\u001b[0m\u001b[1;33m\u001b[0m\u001b[0m\n",
      "\u001b[1;32mC:\\pyt\\lib\\site-packages\\selenium\\webdriver\\remote\\errorhandler.py\u001b[0m in \u001b[0;36mcheck_response\u001b[1;34m(self, response)\u001b[0m\n\u001b[0;32m    227\u001b[0m                 \u001b[0malert_text\u001b[0m \u001b[1;33m=\u001b[0m \u001b[0mvalue\u001b[0m\u001b[1;33m[\u001b[0m\u001b[1;34m\"alert\"\u001b[0m\u001b[1;33m]\u001b[0m\u001b[1;33m.\u001b[0m\u001b[0mget\u001b[0m\u001b[1;33m(\u001b[0m\u001b[1;34m\"text\"\u001b[0m\u001b[1;33m)\u001b[0m\u001b[1;33m\u001b[0m\u001b[1;33m\u001b[0m\u001b[0m\n\u001b[0;32m    228\u001b[0m             \u001b[1;32mraise\u001b[0m \u001b[0mexception_class\u001b[0m\u001b[1;33m(\u001b[0m\u001b[0mmessage\u001b[0m\u001b[1;33m,\u001b[0m \u001b[0mscreen\u001b[0m\u001b[1;33m,\u001b[0m \u001b[0mstacktrace\u001b[0m\u001b[1;33m,\u001b[0m \u001b[0malert_text\u001b[0m\u001b[1;33m)\u001b[0m  \u001b[1;31m# type: ignore[call-arg]  # mypy is not smart enough here\u001b[0m\u001b[1;33m\u001b[0m\u001b[1;33m\u001b[0m\u001b[0m\n\u001b[1;32m--> 229\u001b[1;33m         \u001b[1;32mraise\u001b[0m \u001b[0mexception_class\u001b[0m\u001b[1;33m(\u001b[0m\u001b[0mmessage\u001b[0m\u001b[1;33m,\u001b[0m \u001b[0mscreen\u001b[0m\u001b[1;33m,\u001b[0m \u001b[0mstacktrace\u001b[0m\u001b[1;33m)\u001b[0m\u001b[1;33m\u001b[0m\u001b[1;33m\u001b[0m\u001b[0m\n\u001b[0m",
      "\u001b[1;31mNoSuchElementException\u001b[0m: Message: no such element: Unable to locate element: {\"method\":\"xpath\",\"selector\":\"//div[@title='PLN/USD']\"}\n  (Session info: chrome=127.0.6533.89); For documentation on this error, please visit: https://www.selenium.dev/documentation/webdriver/troubleshooting/errors#no-such-element-exception\nStacktrace:\n\tGetHandleVerifier [0x00007FF7359A9632+30946]\n\t(No symbol) [0x00007FF73595E3C9]\n\t(No symbol) [0x00007FF735856FDA]\n\t(No symbol) [0x00007FF7358A822C]\n\t(No symbol) [0x00007FF7358A850C]\n\t(No symbol) [0x00007FF7358EDCB7]\n\t(No symbol) [0x00007FF7358CCAAF]\n\t(No symbol) [0x00007FF7358EB041]\n\t(No symbol) [0x00007FF7358CC813]\n\t(No symbol) [0x00007FF73589A6E5]\n\t(No symbol) [0x00007FF73589B021]\n\tGetHandleVerifier [0x00007FF735ADF83D+1301229]\n\tGetHandleVerifier [0x00007FF735AEBDB7+1351783]\n\tGetHandleVerifier [0x00007FF735AE2A03+1313971]\n\tGetHandleVerifier [0x00007FF7359DDD06+245686]\n\t(No symbol) [0x00007FF73596758F]\n\t(No symbol) [0x00007FF735963804]\n\t(No symbol) [0x00007FF735963992]\n\t(No symbol) [0x00007FF73595A3EF]\n\tBaseThreadInitThunk [0x00007FFC3595257D+29]\n\tRtlUserThreadStart [0x00007FFC3720AF28+40]\n"
     ]
    }
   ],
   "source": [
    "#fw1014 > div > div > section > div.tables > div > div > div > div.rows > div:nth-child(1) > div.column.product-name.left-aligned.column-not-hideable.column-not-reorderable.column-sortable.column-pinned.left-fixed.column-sorting-off.column-visible > div > button"
   ]
  },
  {
   "cell_type": "code",
   "execution_count": null,
   "metadata": {
    "collapsed": true
   },
   "outputs": [],
   "source": [
    "//*[@id=\"fw1014\"]/div/div/section/div[3]/div/div/div/div[2]/div[1]/div[1]/div/button"
   ]
  },
  {
   "cell_type": "code",
   "execution_count": 13,
   "metadata": {},
   "outputs": [
    {
     "ename": "NoSuchElementException",
     "evalue": "Message: no such element: Unable to locate element: {\"method\":\"xpath\",\"selector\":\"//input[@title='Resetuj']\"}\n  (Session info: chrome=127.0.6533.89); For documentation on this error, please visit: https://www.selenium.dev/documentation/webdriver/troubleshooting/errors#no-such-element-exception\nStacktrace:\n\tGetHandleVerifier [0x00007FF7359A9632+30946]\n\t(No symbol) [0x00007FF73595E3C9]\n\t(No symbol) [0x00007FF735856FDA]\n\t(No symbol) [0x00007FF7358A822C]\n\t(No symbol) [0x00007FF7358A850C]\n\t(No symbol) [0x00007FF7358EDCB7]\n\t(No symbol) [0x00007FF7358CCAAF]\n\t(No symbol) [0x00007FF7358EB041]\n\t(No symbol) [0x00007FF7358CC813]\n\t(No symbol) [0x00007FF73589A6E5]\n\t(No symbol) [0x00007FF73589B021]\n\tGetHandleVerifier [0x00007FF735ADF83D+1301229]\n\tGetHandleVerifier [0x00007FF735AEBDB7+1351783]\n\tGetHandleVerifier [0x00007FF735AE2A03+1313971]\n\tGetHandleVerifier [0x00007FF7359DDD06+245686]\n\t(No symbol) [0x00007FF73596758F]\n\t(No symbol) [0x00007FF735963804]\n\t(No symbol) [0x00007FF735963992]\n\t(No symbol) [0x00007FF73595A3EF]\n\tBaseThreadInitThunk [0x00007FFC3595257D+29]\n\tRtlUserThreadStart [0x00007FFC3720AF28+40]\n",
     "output_type": "error",
     "traceback": [
      "\u001b[1;31m---------------------------------------------------------------------------\u001b[0m",
      "\u001b[1;31mNoSuchElementException\u001b[0m                    Traceback (most recent call last)",
      "\u001b[1;32m<ipython-input-13-c8190b11e469>\u001b[0m in \u001b[0;36m<module>\u001b[1;34m\u001b[0m\n\u001b[1;32m----> 1\u001b[1;33m \u001b[0mdriver\u001b[0m\u001b[1;33m.\u001b[0m\u001b[0mfind_element\u001b[0m\u001b[1;33m(\u001b[0m\u001b[0mBy\u001b[0m\u001b[1;33m.\u001b[0m\u001b[0mXPATH\u001b[0m\u001b[1;33m,\u001b[0m \u001b[1;34m\"//input[@title='Resetuj']\"\u001b[0m\u001b[1;33m)\u001b[0m\u001b[1;31m#.send_keys(Keys.RETURN)\u001b[0m\u001b[1;33m\u001b[0m\u001b[1;33m\u001b[0m\u001b[0m\n\u001b[0m",
      "\u001b[1;32mC:\\pyt\\lib\\site-packages\\selenium\\webdriver\\remote\\webdriver.py\u001b[0m in \u001b[0;36mfind_element\u001b[1;34m(self, by, value)\u001b[0m\n\u001b[0;32m    740\u001b[0m             \u001b[0mvalue\u001b[0m \u001b[1;33m=\u001b[0m \u001b[1;34mf'[name=\"{value}\"]'\u001b[0m\u001b[1;33m\u001b[0m\u001b[1;33m\u001b[0m\u001b[0m\n\u001b[0;32m    741\u001b[0m \u001b[1;33m\u001b[0m\u001b[0m\n\u001b[1;32m--> 742\u001b[1;33m         \u001b[1;32mreturn\u001b[0m \u001b[0mself\u001b[0m\u001b[1;33m.\u001b[0m\u001b[0mexecute\u001b[0m\u001b[1;33m(\u001b[0m\u001b[0mCommand\u001b[0m\u001b[1;33m.\u001b[0m\u001b[0mFIND_ELEMENT\u001b[0m\u001b[1;33m,\u001b[0m \u001b[1;33m{\u001b[0m\u001b[1;34m\"using\"\u001b[0m\u001b[1;33m:\u001b[0m \u001b[0mby\u001b[0m\u001b[1;33m,\u001b[0m \u001b[1;34m\"value\"\u001b[0m\u001b[1;33m:\u001b[0m \u001b[0mvalue\u001b[0m\u001b[1;33m}\u001b[0m\u001b[1;33m)\u001b[0m\u001b[1;33m[\u001b[0m\u001b[1;34m\"value\"\u001b[0m\u001b[1;33m]\u001b[0m\u001b[1;33m\u001b[0m\u001b[1;33m\u001b[0m\u001b[0m\n\u001b[0m\u001b[0;32m    743\u001b[0m \u001b[1;33m\u001b[0m\u001b[0m\n\u001b[0;32m    744\u001b[0m     \u001b[1;32mdef\u001b[0m \u001b[0mfind_elements\u001b[0m\u001b[1;33m(\u001b[0m\u001b[0mself\u001b[0m\u001b[1;33m,\u001b[0m \u001b[0mby\u001b[0m\u001b[1;33m=\u001b[0m\u001b[0mBy\u001b[0m\u001b[1;33m.\u001b[0m\u001b[0mID\u001b[0m\u001b[1;33m,\u001b[0m \u001b[0mvalue\u001b[0m\u001b[1;33m:\u001b[0m \u001b[0mOptional\u001b[0m\u001b[1;33m[\u001b[0m\u001b[0mstr\u001b[0m\u001b[1;33m]\u001b[0m \u001b[1;33m=\u001b[0m \u001b[1;32mNone\u001b[0m\u001b[1;33m)\u001b[0m \u001b[1;33m->\u001b[0m \u001b[0mList\u001b[0m\u001b[1;33m[\u001b[0m\u001b[0mWebElement\u001b[0m\u001b[1;33m]\u001b[0m\u001b[1;33m:\u001b[0m\u001b[1;33m\u001b[0m\u001b[1;33m\u001b[0m\u001b[0m\n",
      "\u001b[1;32mC:\\pyt\\lib\\site-packages\\selenium\\webdriver\\remote\\webdriver.py\u001b[0m in \u001b[0;36mexecute\u001b[1;34m(self, driver_command, params)\u001b[0m\n\u001b[0;32m    346\u001b[0m         \u001b[0mresponse\u001b[0m \u001b[1;33m=\u001b[0m \u001b[0mself\u001b[0m\u001b[1;33m.\u001b[0m\u001b[0mcommand_executor\u001b[0m\u001b[1;33m.\u001b[0m\u001b[0mexecute\u001b[0m\u001b[1;33m(\u001b[0m\u001b[0mdriver_command\u001b[0m\u001b[1;33m,\u001b[0m \u001b[0mparams\u001b[0m\u001b[1;33m)\u001b[0m\u001b[1;33m\u001b[0m\u001b[1;33m\u001b[0m\u001b[0m\n\u001b[0;32m    347\u001b[0m         \u001b[1;32mif\u001b[0m \u001b[0mresponse\u001b[0m\u001b[1;33m:\u001b[0m\u001b[1;33m\u001b[0m\u001b[1;33m\u001b[0m\u001b[0m\n\u001b[1;32m--> 348\u001b[1;33m             \u001b[0mself\u001b[0m\u001b[1;33m.\u001b[0m\u001b[0merror_handler\u001b[0m\u001b[1;33m.\u001b[0m\u001b[0mcheck_response\u001b[0m\u001b[1;33m(\u001b[0m\u001b[0mresponse\u001b[0m\u001b[1;33m)\u001b[0m\u001b[1;33m\u001b[0m\u001b[1;33m\u001b[0m\u001b[0m\n\u001b[0m\u001b[0;32m    349\u001b[0m             \u001b[0mresponse\u001b[0m\u001b[1;33m[\u001b[0m\u001b[1;34m\"value\"\u001b[0m\u001b[1;33m]\u001b[0m \u001b[1;33m=\u001b[0m \u001b[0mself\u001b[0m\u001b[1;33m.\u001b[0m\u001b[0m_unwrap_value\u001b[0m\u001b[1;33m(\u001b[0m\u001b[0mresponse\u001b[0m\u001b[1;33m.\u001b[0m\u001b[0mget\u001b[0m\u001b[1;33m(\u001b[0m\u001b[1;34m\"value\"\u001b[0m\u001b[1;33m,\u001b[0m \u001b[1;32mNone\u001b[0m\u001b[1;33m)\u001b[0m\u001b[1;33m)\u001b[0m\u001b[1;33m\u001b[0m\u001b[1;33m\u001b[0m\u001b[0m\n\u001b[0;32m    350\u001b[0m             \u001b[1;32mreturn\u001b[0m \u001b[0mresponse\u001b[0m\u001b[1;33m\u001b[0m\u001b[1;33m\u001b[0m\u001b[0m\n",
      "\u001b[1;32mC:\\pyt\\lib\\site-packages\\selenium\\webdriver\\remote\\errorhandler.py\u001b[0m in \u001b[0;36mcheck_response\u001b[1;34m(self, response)\u001b[0m\n\u001b[0;32m    227\u001b[0m                 \u001b[0malert_text\u001b[0m \u001b[1;33m=\u001b[0m \u001b[0mvalue\u001b[0m\u001b[1;33m[\u001b[0m\u001b[1;34m\"alert\"\u001b[0m\u001b[1;33m]\u001b[0m\u001b[1;33m.\u001b[0m\u001b[0mget\u001b[0m\u001b[1;33m(\u001b[0m\u001b[1;34m\"text\"\u001b[0m\u001b[1;33m)\u001b[0m\u001b[1;33m\u001b[0m\u001b[1;33m\u001b[0m\u001b[0m\n\u001b[0;32m    228\u001b[0m             \u001b[1;32mraise\u001b[0m \u001b[0mexception_class\u001b[0m\u001b[1;33m(\u001b[0m\u001b[0mmessage\u001b[0m\u001b[1;33m,\u001b[0m \u001b[0mscreen\u001b[0m\u001b[1;33m,\u001b[0m \u001b[0mstacktrace\u001b[0m\u001b[1;33m,\u001b[0m \u001b[0malert_text\u001b[0m\u001b[1;33m)\u001b[0m  \u001b[1;31m# type: ignore[call-arg]  # mypy is not smart enough here\u001b[0m\u001b[1;33m\u001b[0m\u001b[1;33m\u001b[0m\u001b[0m\n\u001b[1;32m--> 229\u001b[1;33m         \u001b[1;32mraise\u001b[0m \u001b[0mexception_class\u001b[0m\u001b[1;33m(\u001b[0m\u001b[0mmessage\u001b[0m\u001b[1;33m,\u001b[0m \u001b[0mscreen\u001b[0m\u001b[1;33m,\u001b[0m \u001b[0mstacktrace\u001b[0m\u001b[1;33m)\u001b[0m\u001b[1;33m\u001b[0m\u001b[1;33m\u001b[0m\u001b[0m\n\u001b[0m",
      "\u001b[1;31mNoSuchElementException\u001b[0m: Message: no such element: Unable to locate element: {\"method\":\"xpath\",\"selector\":\"//input[@title='Resetuj']\"}\n  (Session info: chrome=127.0.6533.89); For documentation on this error, please visit: https://www.selenium.dev/documentation/webdriver/troubleshooting/errors#no-such-element-exception\nStacktrace:\n\tGetHandleVerifier [0x00007FF7359A9632+30946]\n\t(No symbol) [0x00007FF73595E3C9]\n\t(No symbol) [0x00007FF735856FDA]\n\t(No symbol) [0x00007FF7358A822C]\n\t(No symbol) [0x00007FF7358A850C]\n\t(No symbol) [0x00007FF7358EDCB7]\n\t(No symbol) [0x00007FF7358CCAAF]\n\t(No symbol) [0x00007FF7358EB041]\n\t(No symbol) [0x00007FF7358CC813]\n\t(No symbol) [0x00007FF73589A6E5]\n\t(No symbol) [0x00007FF73589B021]\n\tGetHandleVerifier [0x00007FF735ADF83D+1301229]\n\tGetHandleVerifier [0x00007FF735AEBDB7+1351783]\n\tGetHandleVerifier [0x00007FF735AE2A03+1313971]\n\tGetHandleVerifier [0x00007FF7359DDD06+245686]\n\t(No symbol) [0x00007FF73596758F]\n\t(No symbol) [0x00007FF735963804]\n\t(No symbol) [0x00007FF735963992]\n\t(No symbol) [0x00007FF73595A3EF]\n\tBaseThreadInitThunk [0x00007FFC3595257D+29]\n\tRtlUserThreadStart [0x00007FFC3720AF28+40]\n"
     ]
    }
   ],
   "source": [
    "<button type=\"button\" class=\"button\" title=\"Resetuj\"><wfe-svg-icon data-svg-icon-name=\"icon-close\" data-svg-icon-size=\"11\"><svg data-classes=\"icon-close\" class=\"icon-svg icon-close icon-svg--size11\" focusable=\"false\" tabindex=\"-1\" viewBox=\"0 0 1024 1024 \" preserveAspectRatio=\"xMidYMid meet\"><path class=\"p-1\" d=\"M608 512l297.6-297.6c22.4-22.4 22.4-64 0-86.4l-9.6-9.6c-22.4-22.4-64-22.4-86.4 0l-297.6 297.6-297.6-297.6c-22.4-25.6-60.8-25.6-86.4 0l-9.6 9.6c-22.4 22.4-22.4 64 0 86.4l297.6 297.6-297.6 297.6c-22.4 22.4-22.4 64 0 86.4l9.6 9.6c22.4 22.4 64 22.4 86.4 0l297.6-297.6 297.6 297.6c22.4 22.4 64 22.4 86.4 0l9.6-9.6c22.4-22.4 22.4-64 0-86.4l-297.6-297.6z\"></path></svg></wfe-svg-icon><span>Resetuj</span></button>"
   ]
  },
  {
   "cell_type": "code",
   "execution_count": 12,
   "metadata": {},
   "outputs": [
    {
     "ename": "NoSuchElementException",
     "evalue": "Message: no such element: Unable to locate element: {\"method\":\"xpath\",\"selector\":\"//input[@title='Resetuj']\"}\n  (Session info: chrome=127.0.6533.89); For documentation on this error, please visit: https://www.selenium.dev/documentation/webdriver/troubleshooting/errors#no-such-element-exception\nStacktrace:\n\tGetHandleVerifier [0x00007FF7359A9632+30946]\n\t(No symbol) [0x00007FF73595E3C9]\n\t(No symbol) [0x00007FF735856FDA]\n\t(No symbol) [0x00007FF7358A822C]\n\t(No symbol) [0x00007FF7358A850C]\n\t(No symbol) [0x00007FF7358EDCB7]\n\t(No symbol) [0x00007FF7358CCAAF]\n\t(No symbol) [0x00007FF7358EB041]\n\t(No symbol) [0x00007FF7358CC813]\n\t(No symbol) [0x00007FF73589A6E5]\n\t(No symbol) [0x00007FF73589B021]\n\tGetHandleVerifier [0x00007FF735ADF83D+1301229]\n\tGetHandleVerifier [0x00007FF735AEBDB7+1351783]\n\tGetHandleVerifier [0x00007FF735AE2A03+1313971]\n\tGetHandleVerifier [0x00007FF7359DDD06+245686]\n\t(No symbol) [0x00007FF73596758F]\n\t(No symbol) [0x00007FF735963804]\n\t(No symbol) [0x00007FF735963992]\n\t(No symbol) [0x00007FF73595A3EF]\n\tBaseThreadInitThunk [0x00007FFC3595257D+29]\n\tRtlUserThreadStart [0x00007FFC3720AF28+40]\n",
     "output_type": "error",
     "traceback": [
      "\u001b[1;31m---------------------------------------------------------------------------\u001b[0m",
      "\u001b[1;31mNoSuchElementException\u001b[0m                    Traceback (most recent call last)",
      "\u001b[1;32m<ipython-input-12-5a2c0a281e1e>\u001b[0m in \u001b[0;36m<module>\u001b[1;34m\u001b[0m\n\u001b[1;32m----> 1\u001b[1;33m \u001b[0mdriver\u001b[0m\u001b[1;33m.\u001b[0m\u001b[0mfind_element\u001b[0m\u001b[1;33m(\u001b[0m\u001b[0mBy\u001b[0m\u001b[1;33m.\u001b[0m\u001b[0mXPATH\u001b[0m\u001b[1;33m,\u001b[0m \u001b[1;34m\"//input[@title='Resetuj']\"\u001b[0m\u001b[1;33m)\u001b[0m\u001b[1;33m.\u001b[0m\u001b[0msend_keys\u001b[0m\u001b[1;33m(\u001b[0m\u001b[0mKeys\u001b[0m\u001b[1;33m.\u001b[0m\u001b[0mRETURN\u001b[0m\u001b[1;33m)\u001b[0m\u001b[1;33m\u001b[0m\u001b[1;33m\u001b[0m\u001b[0m\n\u001b[0m",
      "\u001b[1;32mC:\\pyt\\lib\\site-packages\\selenium\\webdriver\\remote\\webdriver.py\u001b[0m in \u001b[0;36mfind_element\u001b[1;34m(self, by, value)\u001b[0m\n\u001b[0;32m    740\u001b[0m             \u001b[0mvalue\u001b[0m \u001b[1;33m=\u001b[0m \u001b[1;34mf'[name=\"{value}\"]'\u001b[0m\u001b[1;33m\u001b[0m\u001b[1;33m\u001b[0m\u001b[0m\n\u001b[0;32m    741\u001b[0m \u001b[1;33m\u001b[0m\u001b[0m\n\u001b[1;32m--> 742\u001b[1;33m         \u001b[1;32mreturn\u001b[0m \u001b[0mself\u001b[0m\u001b[1;33m.\u001b[0m\u001b[0mexecute\u001b[0m\u001b[1;33m(\u001b[0m\u001b[0mCommand\u001b[0m\u001b[1;33m.\u001b[0m\u001b[0mFIND_ELEMENT\u001b[0m\u001b[1;33m,\u001b[0m \u001b[1;33m{\u001b[0m\u001b[1;34m\"using\"\u001b[0m\u001b[1;33m:\u001b[0m \u001b[0mby\u001b[0m\u001b[1;33m,\u001b[0m \u001b[1;34m\"value\"\u001b[0m\u001b[1;33m:\u001b[0m \u001b[0mvalue\u001b[0m\u001b[1;33m}\u001b[0m\u001b[1;33m)\u001b[0m\u001b[1;33m[\u001b[0m\u001b[1;34m\"value\"\u001b[0m\u001b[1;33m]\u001b[0m\u001b[1;33m\u001b[0m\u001b[1;33m\u001b[0m\u001b[0m\n\u001b[0m\u001b[0;32m    743\u001b[0m \u001b[1;33m\u001b[0m\u001b[0m\n\u001b[0;32m    744\u001b[0m     \u001b[1;32mdef\u001b[0m \u001b[0mfind_elements\u001b[0m\u001b[1;33m(\u001b[0m\u001b[0mself\u001b[0m\u001b[1;33m,\u001b[0m \u001b[0mby\u001b[0m\u001b[1;33m=\u001b[0m\u001b[0mBy\u001b[0m\u001b[1;33m.\u001b[0m\u001b[0mID\u001b[0m\u001b[1;33m,\u001b[0m \u001b[0mvalue\u001b[0m\u001b[1;33m:\u001b[0m \u001b[0mOptional\u001b[0m\u001b[1;33m[\u001b[0m\u001b[0mstr\u001b[0m\u001b[1;33m]\u001b[0m \u001b[1;33m=\u001b[0m \u001b[1;32mNone\u001b[0m\u001b[1;33m)\u001b[0m \u001b[1;33m->\u001b[0m \u001b[0mList\u001b[0m\u001b[1;33m[\u001b[0m\u001b[0mWebElement\u001b[0m\u001b[1;33m]\u001b[0m\u001b[1;33m:\u001b[0m\u001b[1;33m\u001b[0m\u001b[1;33m\u001b[0m\u001b[0m\n",
      "\u001b[1;32mC:\\pyt\\lib\\site-packages\\selenium\\webdriver\\remote\\webdriver.py\u001b[0m in \u001b[0;36mexecute\u001b[1;34m(self, driver_command, params)\u001b[0m\n\u001b[0;32m    346\u001b[0m         \u001b[0mresponse\u001b[0m \u001b[1;33m=\u001b[0m \u001b[0mself\u001b[0m\u001b[1;33m.\u001b[0m\u001b[0mcommand_executor\u001b[0m\u001b[1;33m.\u001b[0m\u001b[0mexecute\u001b[0m\u001b[1;33m(\u001b[0m\u001b[0mdriver_command\u001b[0m\u001b[1;33m,\u001b[0m \u001b[0mparams\u001b[0m\u001b[1;33m)\u001b[0m\u001b[1;33m\u001b[0m\u001b[1;33m\u001b[0m\u001b[0m\n\u001b[0;32m    347\u001b[0m         \u001b[1;32mif\u001b[0m \u001b[0mresponse\u001b[0m\u001b[1;33m:\u001b[0m\u001b[1;33m\u001b[0m\u001b[1;33m\u001b[0m\u001b[0m\n\u001b[1;32m--> 348\u001b[1;33m             \u001b[0mself\u001b[0m\u001b[1;33m.\u001b[0m\u001b[0merror_handler\u001b[0m\u001b[1;33m.\u001b[0m\u001b[0mcheck_response\u001b[0m\u001b[1;33m(\u001b[0m\u001b[0mresponse\u001b[0m\u001b[1;33m)\u001b[0m\u001b[1;33m\u001b[0m\u001b[1;33m\u001b[0m\u001b[0m\n\u001b[0m\u001b[0;32m    349\u001b[0m             \u001b[0mresponse\u001b[0m\u001b[1;33m[\u001b[0m\u001b[1;34m\"value\"\u001b[0m\u001b[1;33m]\u001b[0m \u001b[1;33m=\u001b[0m \u001b[0mself\u001b[0m\u001b[1;33m.\u001b[0m\u001b[0m_unwrap_value\u001b[0m\u001b[1;33m(\u001b[0m\u001b[0mresponse\u001b[0m\u001b[1;33m.\u001b[0m\u001b[0mget\u001b[0m\u001b[1;33m(\u001b[0m\u001b[1;34m\"value\"\u001b[0m\u001b[1;33m,\u001b[0m \u001b[1;32mNone\u001b[0m\u001b[1;33m)\u001b[0m\u001b[1;33m)\u001b[0m\u001b[1;33m\u001b[0m\u001b[1;33m\u001b[0m\u001b[0m\n\u001b[0;32m    350\u001b[0m             \u001b[1;32mreturn\u001b[0m \u001b[0mresponse\u001b[0m\u001b[1;33m\u001b[0m\u001b[1;33m\u001b[0m\u001b[0m\n",
      "\u001b[1;32mC:\\pyt\\lib\\site-packages\\selenium\\webdriver\\remote\\errorhandler.py\u001b[0m in \u001b[0;36mcheck_response\u001b[1;34m(self, response)\u001b[0m\n\u001b[0;32m    227\u001b[0m                 \u001b[0malert_text\u001b[0m \u001b[1;33m=\u001b[0m \u001b[0mvalue\u001b[0m\u001b[1;33m[\u001b[0m\u001b[1;34m\"alert\"\u001b[0m\u001b[1;33m]\u001b[0m\u001b[1;33m.\u001b[0m\u001b[0mget\u001b[0m\u001b[1;33m(\u001b[0m\u001b[1;34m\"text\"\u001b[0m\u001b[1;33m)\u001b[0m\u001b[1;33m\u001b[0m\u001b[1;33m\u001b[0m\u001b[0m\n\u001b[0;32m    228\u001b[0m             \u001b[1;32mraise\u001b[0m \u001b[0mexception_class\u001b[0m\u001b[1;33m(\u001b[0m\u001b[0mmessage\u001b[0m\u001b[1;33m,\u001b[0m \u001b[0mscreen\u001b[0m\u001b[1;33m,\u001b[0m \u001b[0mstacktrace\u001b[0m\u001b[1;33m,\u001b[0m \u001b[0malert_text\u001b[0m\u001b[1;33m)\u001b[0m  \u001b[1;31m# type: ignore[call-arg]  # mypy is not smart enough here\u001b[0m\u001b[1;33m\u001b[0m\u001b[1;33m\u001b[0m\u001b[0m\n\u001b[1;32m--> 229\u001b[1;33m         \u001b[1;32mraise\u001b[0m \u001b[0mexception_class\u001b[0m\u001b[1;33m(\u001b[0m\u001b[0mmessage\u001b[0m\u001b[1;33m,\u001b[0m \u001b[0mscreen\u001b[0m\u001b[1;33m,\u001b[0m \u001b[0mstacktrace\u001b[0m\u001b[1;33m)\u001b[0m\u001b[1;33m\u001b[0m\u001b[1;33m\u001b[0m\u001b[0m\n\u001b[0m",
      "\u001b[1;31mNoSuchElementException\u001b[0m: Message: no such element: Unable to locate element: {\"method\":\"xpath\",\"selector\":\"//input[@title='Resetuj']\"}\n  (Session info: chrome=127.0.6533.89); For documentation on this error, please visit: https://www.selenium.dev/documentation/webdriver/troubleshooting/errors#no-such-element-exception\nStacktrace:\n\tGetHandleVerifier [0x00007FF7359A9632+30946]\n\t(No symbol) [0x00007FF73595E3C9]\n\t(No symbol) [0x00007FF735856FDA]\n\t(No symbol) [0x00007FF7358A822C]\n\t(No symbol) [0x00007FF7358A850C]\n\t(No symbol) [0x00007FF7358EDCB7]\n\t(No symbol) [0x00007FF7358CCAAF]\n\t(No symbol) [0x00007FF7358EB041]\n\t(No symbol) [0x00007FF7358CC813]\n\t(No symbol) [0x00007FF73589A6E5]\n\t(No symbol) [0x00007FF73589B021]\n\tGetHandleVerifier [0x00007FF735ADF83D+1301229]\n\tGetHandleVerifier [0x00007FF735AEBDB7+1351783]\n\tGetHandleVerifier [0x00007FF735AE2A03+1313971]\n\tGetHandleVerifier [0x00007FF7359DDD06+245686]\n\t(No symbol) [0x00007FF73596758F]\n\t(No symbol) [0x00007FF735963804]\n\t(No symbol) [0x00007FF735963992]\n\t(No symbol) [0x00007FF73595A3EF]\n\tBaseThreadInitThunk [0x00007FFC3595257D+29]\n\tRtlUserThreadStart [0x00007FFC3720AF28+40]\n"
     ]
    }
   ],
   "source": [
    "//*[@id=\"fw1014\"]/div/div/section/next-gen-product-library-filtering-root-component/div/div[1]/div[2]/div[1]/button"
   ]
  },
  {
   "cell_type": "code",
   "execution_count": null,
   "metadata": {},
   "outputs": [],
   "source": [
    "//*[@id=\"fw1014\"]/div/div/section/next-gen-product-library-filtering-root-component/div/div[1]/div[1]/form/input\n",
    "/html/body/div[1]/div/cmc-login/div/section/div[1]/div/form/div[3]/button"
   ]
  },
  {
   "cell_type": "code",
   "execution_count": null,
   "metadata": {},
   "outputs": [],
   "source": [
    "//*[@id=\"username\"]"
   ]
  },
  {
   "cell_type": "code",
   "execution_count": 9,
   "metadata": {},
   "outputs": [
    {
     "ename": "AttributeError",
     "evalue": "'WebDriver' object has no attribute 'find_element_by_xpath'",
     "output_type": "error",
     "traceback": [
      "\u001b[1;31m---------------------------------------------------------------------------\u001b[0m",
      "\u001b[1;31mAttributeError\u001b[0m                            Traceback (most recent call last)",
      "\u001b[1;32m<ipython-input-9-fe08a60e3cde>\u001b[0m in \u001b[0;36m<module>\u001b[1;34m\u001b[0m\n\u001b[1;32m----> 1\u001b[1;33m \u001b[0mdriver\u001b[0m\u001b[1;33m.\u001b[0m\u001b[0mfind_element_by_xpath\u001b[0m\u001b[1;33m(\u001b[0m\u001b[1;34mu'//*[@id=\"fw1014\"]/div/div/section/next-gen-product-library-filtering-root-component/div/div[1]/div[1]/form/input'\u001b[0m\u001b[1;33m)\u001b[0m\u001b[1;33m.\u001b[0m\u001b[0msend_keys\u001b[0m\u001b[1;33m(\u001b[0m\u001b[1;34m\"USD\"\u001b[0m\u001b[1;33m)\u001b[0m\u001b[1;33m;\u001b[0m\u001b[1;33m\u001b[0m\u001b[1;33m\u001b[0m\u001b[0m\n\u001b[0m",
      "\u001b[1;31mAttributeError\u001b[0m: 'WebDriver' object has no attribute 'find_element_by_xpath'"
     ]
    }
   ],
   "source": [
    "driver.find_element_by_xpath(u'//*[@id=\"fw1014\"]/div/div/section/next-gen-product-library-filtering-root-component/div/div[1]/div[1]/form/input').send_keys(\"USD\");"
   ]
  },
  {
   "cell_type": "code",
   "execution_count": null,
   "metadata": {},
   "outputs": [],
   "source": []
  }
 ],
 "metadata": {
  "kernelspec": {
   "display_name": "Python 3",
   "language": "python",
   "name": "python3"
  },
  "language_info": {
   "codemirror_mode": {
    "name": "ipython",
    "version": 3
   },
   "file_extension": ".py",
   "mimetype": "text/x-python",
   "name": "python",
   "nbconvert_exporter": "python",
   "pygments_lexer": "ipython3",
   "version": "3.8.3"
  }
 },
 "nbformat": 4,
 "nbformat_minor": 4
}
